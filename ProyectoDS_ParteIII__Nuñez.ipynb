{
  "nbformat": 4,
  "nbformat_minor": 0,
  "metadata": {
    "colab": {
      "provenance": [],
      "authorship_tag": "ABX9TyNWoAvGLzMe7hUHHkjsvX/9",
      "include_colab_link": true
    },
    "kernelspec": {
      "name": "python3",
      "display_name": "Python 3"
    },
    "language_info": {
      "name": "python"
    }
  },
  "cells": [
    {
      "cell_type": "markdown",
      "metadata": {
        "id": "view-in-github",
        "colab_type": "text"
      },
      "source": [
        "<a href=\"https://colab.research.google.com/github/Zullen17/cases/blob/main/ProyectoDS_ParteIII__Nu%C3%B1ez.ipynb\" target=\"_parent\"><img src=\"https://colab.research.google.com/assets/colab-badge.svg\" alt=\"Open In Colab\"/></a>"
      ]
    },
    {
      "cell_type": "code",
      "execution_count": null,
      "metadata": {
        "colab": {
          "base_uri": "https://localhost:8080/"
        },
        "id": "vJvzLPAO4IU0",
        "outputId": "1bc66da6-346f-42b9-fc69-59cc93b310a5"
      },
      "outputs": [
        {
          "output_type": "stream",
          "name": "stdout",
          "text": [
            "Mounted at /content/gdrive\n"
          ]
        }
      ],
      "source": [
        "from google.colab import drive\n",
        "import os\n",
        "drive.mount('/content/gdrive')"
      ]
    },
    {
      "cell_type": "code",
      "source": [
        "import pandas as pd\n",
        "df = pd.read_csv('/content/gdrive/MyDrive/Entregas Colab Notebooks/BankChurners.csv')\n",
        "df.shape"
      ],
      "metadata": {
        "colab": {
          "base_uri": "https://localhost:8080/"
        },
        "id": "vZgxPZet4lH4",
        "outputId": "fb85e617-7202-455a-8343-00ce71cfee9a"
      },
      "execution_count": null,
      "outputs": [
        {
          "output_type": "execute_result",
          "data": {
            "text/plain": [
              "(10127, 23)"
            ]
          },
          "metadata": {},
          "execution_count": 2
        }
      ]
    },
    {
      "cell_type": "markdown",
      "source": [
        "This dataset contains a wealth of customer information collected from within a consumer credit card portfolio, with the aim of helping analysts predict customer attrition. It includes comprehensive demographic details such as age, gender, marital status and income category, as well as insight into each customer’s relationship with the credit card provider such as the card type, number of months on book and inactive periods. Additionally it holds key data about customers’ spending behavior drawing closer to their churn decision such as total revolving balance, credit limit, average open to buy rate and analyzable metrics like total amount of change from quarter 4 to quarter 1, average utilization ratio and Naive Bayes classifier attrition flag (Card category is combined with contacts count in 12months period alongside dependent count plus education level & months inactive). Faced with this set of useful predicted data points across multiple variables capture up-to-date information that can determine long term account stability or an impending departure therefore offering us an equipped understanding when seeking to manage a portfolio or serve individual customers"
      ],
      "metadata": {
        "id": "NepREzEe43ns"
      }
    },
    {
      "cell_type": "code",
      "source": [
        "df.head(5)"
      ],
      "metadata": {
        "colab": {
          "base_uri": "https://localhost:8080/",
          "height": 386
        },
        "id": "DgX6o1wI46sT",
        "outputId": "35a2890e-96a2-410e-f6fd-70cf0c7ef7d7"
      },
      "execution_count": null,
      "outputs": [
        {
          "output_type": "execute_result",
          "data": {
            "text/plain": [
              "   CLIENTNUM     Attrition_Flag  Customer_Age Gender  Dependent_count  \\\n",
              "0  768805383  Existing Customer            45      M                3   \n",
              "1  818770008  Existing Customer            49      F                5   \n",
              "2  713982108  Existing Customer            51      M                3   \n",
              "3  769911858  Existing Customer            40      F                4   \n",
              "4  709106358  Existing Customer            40      M                3   \n",
              "\n",
              "  Education_Level Marital_Status Income_Category Card_Category  \\\n",
              "0     High School        Married     $60K - $80K          Blue   \n",
              "1        Graduate         Single  Less than $40K          Blue   \n",
              "2        Graduate        Married    $80K - $120K          Blue   \n",
              "3     High School        Unknown  Less than $40K          Blue   \n",
              "4      Uneducated        Married     $60K - $80K          Blue   \n",
              "\n",
              "   Months_on_book  ...  Credit_Limit  Total_Revolving_Bal  Avg_Open_To_Buy  \\\n",
              "0              39  ...       12691.0                  777          11914.0   \n",
              "1              44  ...        8256.0                  864           7392.0   \n",
              "2              36  ...        3418.0                    0           3418.0   \n",
              "3              34  ...        3313.0                 2517            796.0   \n",
              "4              21  ...        4716.0                    0           4716.0   \n",
              "\n",
              "   Total_Amt_Chng_Q4_Q1  Total_Trans_Amt  Total_Trans_Ct  Total_Ct_Chng_Q4_Q1  \\\n",
              "0                 1.335             1144              42                1.625   \n",
              "1                 1.541             1291              33                3.714   \n",
              "2                 2.594             1887              20                2.333   \n",
              "3                 1.405             1171              20                2.333   \n",
              "4                 2.175              816              28                2.500   \n",
              "\n",
              "   Avg_Utilization_Ratio  \\\n",
              "0                  0.061   \n",
              "1                  0.105   \n",
              "2                  0.000   \n",
              "3                  0.760   \n",
              "4                  0.000   \n",
              "\n",
              "   Naive_Bayes_Classifier_Attrition_Flag_Card_Category_Contacts_Count_12_mon_Dependent_count_Education_Level_Months_Inactive_12_mon_1  \\\n",
              "0                                           0.000093                                                                                    \n",
              "1                                           0.000057                                                                                    \n",
              "2                                           0.000021                                                                                    \n",
              "3                                           0.000134                                                                                    \n",
              "4                                           0.000022                                                                                    \n",
              "\n",
              "   Naive_Bayes_Classifier_Attrition_Flag_Card_Category_Contacts_Count_12_mon_Dependent_count_Education_Level_Months_Inactive_12_mon_2  \n",
              "0                                            0.99991                                                                                   \n",
              "1                                            0.99994                                                                                   \n",
              "2                                            0.99998                                                                                   \n",
              "3                                            0.99987                                                                                   \n",
              "4                                            0.99998                                                                                   \n",
              "\n",
              "[5 rows x 23 columns]"
            ],
            "text/html": [
              "\n",
              "  <div id=\"df-2d3f55db-ea66-436f-a97c-498d40f77e62\">\n",
              "    <div class=\"colab-df-container\">\n",
              "      <div>\n",
              "<style scoped>\n",
              "    .dataframe tbody tr th:only-of-type {\n",
              "        vertical-align: middle;\n",
              "    }\n",
              "\n",
              "    .dataframe tbody tr th {\n",
              "        vertical-align: top;\n",
              "    }\n",
              "\n",
              "    .dataframe thead th {\n",
              "        text-align: right;\n",
              "    }\n",
              "</style>\n",
              "<table border=\"1\" class=\"dataframe\">\n",
              "  <thead>\n",
              "    <tr style=\"text-align: right;\">\n",
              "      <th></th>\n",
              "      <th>CLIENTNUM</th>\n",
              "      <th>Attrition_Flag</th>\n",
              "      <th>Customer_Age</th>\n",
              "      <th>Gender</th>\n",
              "      <th>Dependent_count</th>\n",
              "      <th>Education_Level</th>\n",
              "      <th>Marital_Status</th>\n",
              "      <th>Income_Category</th>\n",
              "      <th>Card_Category</th>\n",
              "      <th>Months_on_book</th>\n",
              "      <th>...</th>\n",
              "      <th>Credit_Limit</th>\n",
              "      <th>Total_Revolving_Bal</th>\n",
              "      <th>Avg_Open_To_Buy</th>\n",
              "      <th>Total_Amt_Chng_Q4_Q1</th>\n",
              "      <th>Total_Trans_Amt</th>\n",
              "      <th>Total_Trans_Ct</th>\n",
              "      <th>Total_Ct_Chng_Q4_Q1</th>\n",
              "      <th>Avg_Utilization_Ratio</th>\n",
              "      <th>Naive_Bayes_Classifier_Attrition_Flag_Card_Category_Contacts_Count_12_mon_Dependent_count_Education_Level_Months_Inactive_12_mon_1</th>\n",
              "      <th>Naive_Bayes_Classifier_Attrition_Flag_Card_Category_Contacts_Count_12_mon_Dependent_count_Education_Level_Months_Inactive_12_mon_2</th>\n",
              "    </tr>\n",
              "  </thead>\n",
              "  <tbody>\n",
              "    <tr>\n",
              "      <th>0</th>\n",
              "      <td>768805383</td>\n",
              "      <td>Existing Customer</td>\n",
              "      <td>45</td>\n",
              "      <td>M</td>\n",
              "      <td>3</td>\n",
              "      <td>High School</td>\n",
              "      <td>Married</td>\n",
              "      <td>$60K - $80K</td>\n",
              "      <td>Blue</td>\n",
              "      <td>39</td>\n",
              "      <td>...</td>\n",
              "      <td>12691.0</td>\n",
              "      <td>777</td>\n",
              "      <td>11914.0</td>\n",
              "      <td>1.335</td>\n",
              "      <td>1144</td>\n",
              "      <td>42</td>\n",
              "      <td>1.625</td>\n",
              "      <td>0.061</td>\n",
              "      <td>0.000093</td>\n",
              "      <td>0.99991</td>\n",
              "    </tr>\n",
              "    <tr>\n",
              "      <th>1</th>\n",
              "      <td>818770008</td>\n",
              "      <td>Existing Customer</td>\n",
              "      <td>49</td>\n",
              "      <td>F</td>\n",
              "      <td>5</td>\n",
              "      <td>Graduate</td>\n",
              "      <td>Single</td>\n",
              "      <td>Less than $40K</td>\n",
              "      <td>Blue</td>\n",
              "      <td>44</td>\n",
              "      <td>...</td>\n",
              "      <td>8256.0</td>\n",
              "      <td>864</td>\n",
              "      <td>7392.0</td>\n",
              "      <td>1.541</td>\n",
              "      <td>1291</td>\n",
              "      <td>33</td>\n",
              "      <td>3.714</td>\n",
              "      <td>0.105</td>\n",
              "      <td>0.000057</td>\n",
              "      <td>0.99994</td>\n",
              "    </tr>\n",
              "    <tr>\n",
              "      <th>2</th>\n",
              "      <td>713982108</td>\n",
              "      <td>Existing Customer</td>\n",
              "      <td>51</td>\n",
              "      <td>M</td>\n",
              "      <td>3</td>\n",
              "      <td>Graduate</td>\n",
              "      <td>Married</td>\n",
              "      <td>$80K - $120K</td>\n",
              "      <td>Blue</td>\n",
              "      <td>36</td>\n",
              "      <td>...</td>\n",
              "      <td>3418.0</td>\n",
              "      <td>0</td>\n",
              "      <td>3418.0</td>\n",
              "      <td>2.594</td>\n",
              "      <td>1887</td>\n",
              "      <td>20</td>\n",
              "      <td>2.333</td>\n",
              "      <td>0.000</td>\n",
              "      <td>0.000021</td>\n",
              "      <td>0.99998</td>\n",
              "    </tr>\n",
              "    <tr>\n",
              "      <th>3</th>\n",
              "      <td>769911858</td>\n",
              "      <td>Existing Customer</td>\n",
              "      <td>40</td>\n",
              "      <td>F</td>\n",
              "      <td>4</td>\n",
              "      <td>High School</td>\n",
              "      <td>Unknown</td>\n",
              "      <td>Less than $40K</td>\n",
              "      <td>Blue</td>\n",
              "      <td>34</td>\n",
              "      <td>...</td>\n",
              "      <td>3313.0</td>\n",
              "      <td>2517</td>\n",
              "      <td>796.0</td>\n",
              "      <td>1.405</td>\n",
              "      <td>1171</td>\n",
              "      <td>20</td>\n",
              "      <td>2.333</td>\n",
              "      <td>0.760</td>\n",
              "      <td>0.000134</td>\n",
              "      <td>0.99987</td>\n",
              "    </tr>\n",
              "    <tr>\n",
              "      <th>4</th>\n",
              "      <td>709106358</td>\n",
              "      <td>Existing Customer</td>\n",
              "      <td>40</td>\n",
              "      <td>M</td>\n",
              "      <td>3</td>\n",
              "      <td>Uneducated</td>\n",
              "      <td>Married</td>\n",
              "      <td>$60K - $80K</td>\n",
              "      <td>Blue</td>\n",
              "      <td>21</td>\n",
              "      <td>...</td>\n",
              "      <td>4716.0</td>\n",
              "      <td>0</td>\n",
              "      <td>4716.0</td>\n",
              "      <td>2.175</td>\n",
              "      <td>816</td>\n",
              "      <td>28</td>\n",
              "      <td>2.500</td>\n",
              "      <td>0.000</td>\n",
              "      <td>0.000022</td>\n",
              "      <td>0.99998</td>\n",
              "    </tr>\n",
              "  </tbody>\n",
              "</table>\n",
              "<p>5 rows × 23 columns</p>\n",
              "</div>\n",
              "      <button class=\"colab-df-convert\" onclick=\"convertToInteractive('df-2d3f55db-ea66-436f-a97c-498d40f77e62')\"\n",
              "              title=\"Convert this dataframe to an interactive table.\"\n",
              "              style=\"display:none;\">\n",
              "        \n",
              "  <svg xmlns=\"http://www.w3.org/2000/svg\" height=\"24px\"viewBox=\"0 0 24 24\"\n",
              "       width=\"24px\">\n",
              "    <path d=\"M0 0h24v24H0V0z\" fill=\"none\"/>\n",
              "    <path d=\"M18.56 5.44l.94 2.06.94-2.06 2.06-.94-2.06-.94-.94-2.06-.94 2.06-2.06.94zm-11 1L8.5 8.5l.94-2.06 2.06-.94-2.06-.94L8.5 2.5l-.94 2.06-2.06.94zm10 10l.94 2.06.94-2.06 2.06-.94-2.06-.94-.94-2.06-.94 2.06-2.06.94z\"/><path d=\"M17.41 7.96l-1.37-1.37c-.4-.4-.92-.59-1.43-.59-.52 0-1.04.2-1.43.59L10.3 9.45l-7.72 7.72c-.78.78-.78 2.05 0 2.83L4 21.41c.39.39.9.59 1.41.59.51 0 1.02-.2 1.41-.59l7.78-7.78 2.81-2.81c.8-.78.8-2.07 0-2.86zM5.41 20L4 18.59l7.72-7.72 1.47 1.35L5.41 20z\"/>\n",
              "  </svg>\n",
              "      </button>\n",
              "      \n",
              "  <style>\n",
              "    .colab-df-container {\n",
              "      display:flex;\n",
              "      flex-wrap:wrap;\n",
              "      gap: 12px;\n",
              "    }\n",
              "\n",
              "    .colab-df-convert {\n",
              "      background-color: #E8F0FE;\n",
              "      border: none;\n",
              "      border-radius: 50%;\n",
              "      cursor: pointer;\n",
              "      display: none;\n",
              "      fill: #1967D2;\n",
              "      height: 32px;\n",
              "      padding: 0 0 0 0;\n",
              "      width: 32px;\n",
              "    }\n",
              "\n",
              "    .colab-df-convert:hover {\n",
              "      background-color: #E2EBFA;\n",
              "      box-shadow: 0px 1px 2px rgba(60, 64, 67, 0.3), 0px 1px 3px 1px rgba(60, 64, 67, 0.15);\n",
              "      fill: #174EA6;\n",
              "    }\n",
              "\n",
              "    [theme=dark] .colab-df-convert {\n",
              "      background-color: #3B4455;\n",
              "      fill: #D2E3FC;\n",
              "    }\n",
              "\n",
              "    [theme=dark] .colab-df-convert:hover {\n",
              "      background-color: #434B5C;\n",
              "      box-shadow: 0px 1px 3px 1px rgba(0, 0, 0, 0.15);\n",
              "      filter: drop-shadow(0px 1px 2px rgba(0, 0, 0, 0.3));\n",
              "      fill: #FFFFFF;\n",
              "    }\n",
              "  </style>\n",
              "\n",
              "      <script>\n",
              "        const buttonEl =\n",
              "          document.querySelector('#df-2d3f55db-ea66-436f-a97c-498d40f77e62 button.colab-df-convert');\n",
              "        buttonEl.style.display =\n",
              "          google.colab.kernel.accessAllowed ? 'block' : 'none';\n",
              "\n",
              "        async function convertToInteractive(key) {\n",
              "          const element = document.querySelector('#df-2d3f55db-ea66-436f-a97c-498d40f77e62');\n",
              "          const dataTable =\n",
              "            await google.colab.kernel.invokeFunction('convertToInteractive',\n",
              "                                                     [key], {});\n",
              "          if (!dataTable) return;\n",
              "\n",
              "          const docLinkHtml = 'Like what you see? Visit the ' +\n",
              "            '<a target=\"_blank\" href=https://colab.research.google.com/notebooks/data_table.ipynb>data table notebook</a>'\n",
              "            + ' to learn more about interactive tables.';\n",
              "          element.innerHTML = '';\n",
              "          dataTable['output_type'] = 'display_data';\n",
              "          await google.colab.output.renderOutput(dataTable, element);\n",
              "          const docLink = document.createElement('div');\n",
              "          docLink.innerHTML = docLinkHtml;\n",
              "          element.appendChild(docLink);\n",
              "        }\n",
              "      </script>\n",
              "    </div>\n",
              "  </div>\n",
              "  "
            ]
          },
          "metadata": {},
          "execution_count": 3
        }
      ]
    },
    {
      "cell_type": "code",
      "source": [
        "df.columns"
      ],
      "metadata": {
        "colab": {
          "base_uri": "https://localhost:8080/"
        },
        "id": "ZVkzwyLZ5Df6",
        "outputId": "97f779de-bdc5-4b37-e7b0-39bc405341f2"
      },
      "execution_count": null,
      "outputs": [
        {
          "output_type": "execute_result",
          "data": {
            "text/plain": [
              "Index(['CLIENTNUM', 'Attrition_Flag', 'Customer_Age', 'Gender',\n",
              "       'Dependent_count', 'Education_Level', 'Marital_Status',\n",
              "       'Income_Category', 'Card_Category', 'Months_on_book',\n",
              "       'Total_Relationship_Count', 'Months_Inactive_12_mon',\n",
              "       'Contacts_Count_12_mon', 'Credit_Limit', 'Total_Revolving_Bal',\n",
              "       'Avg_Open_To_Buy', 'Total_Amt_Chng_Q4_Q1', 'Total_Trans_Amt',\n",
              "       'Total_Trans_Ct', 'Total_Ct_Chng_Q4_Q1', 'Avg_Utilization_Ratio',\n",
              "       'Naive_Bayes_Classifier_Attrition_Flag_Card_Category_Contacts_Count_12_mon_Dependent_count_Education_Level_Months_Inactive_12_mon_1',\n",
              "       'Naive_Bayes_Classifier_Attrition_Flag_Card_Category_Contacts_Count_12_mon_Dependent_count_Education_Level_Months_Inactive_12_mon_2'],\n",
              "      dtype='object')"
            ]
          },
          "metadata": {},
          "execution_count": 4
        }
      ]
    },
    {
      "cell_type": "code",
      "source": [
        "df.info()"
      ],
      "metadata": {
        "colab": {
          "base_uri": "https://localhost:8080/"
        },
        "id": "ogSaSWtr1FRC",
        "outputId": "316309fc-76c2-4422-ceda-f200b7f3c00c"
      },
      "execution_count": null,
      "outputs": [
        {
          "output_type": "stream",
          "name": "stdout",
          "text": [
            "<class 'pandas.core.frame.DataFrame'>\n",
            "RangeIndex: 10127 entries, 0 to 10126\n",
            "Data columns (total 23 columns):\n",
            " #   Column                                                                                                                              Non-Null Count  Dtype  \n",
            "---  ------                                                                                                                              --------------  -----  \n",
            " 0   CLIENTNUM                                                                                                                           10127 non-null  int64  \n",
            " 1   Attrition_Flag                                                                                                                      10127 non-null  object \n",
            " 2   Customer_Age                                                                                                                        10127 non-null  int64  \n",
            " 3   Gender                                                                                                                              10127 non-null  object \n",
            " 4   Dependent_count                                                                                                                     10127 non-null  int64  \n",
            " 5   Education_Level                                                                                                                     10127 non-null  object \n",
            " 6   Marital_Status                                                                                                                      10127 non-null  object \n",
            " 7   Income_Category                                                                                                                     10127 non-null  object \n",
            " 8   Card_Category                                                                                                                       10127 non-null  object \n",
            " 9   Months_on_book                                                                                                                      10127 non-null  int64  \n",
            " 10  Total_Relationship_Count                                                                                                            10127 non-null  int64  \n",
            " 11  Months_Inactive_12_mon                                                                                                              10127 non-null  int64  \n",
            " 12  Contacts_Count_12_mon                                                                                                               10127 non-null  int64  \n",
            " 13  Credit_Limit                                                                                                                        10127 non-null  float64\n",
            " 14  Total_Revolving_Bal                                                                                                                 10127 non-null  int64  \n",
            " 15  Avg_Open_To_Buy                                                                                                                     10127 non-null  float64\n",
            " 16  Total_Amt_Chng_Q4_Q1                                                                                                                10127 non-null  float64\n",
            " 17  Total_Trans_Amt                                                                                                                     10127 non-null  int64  \n",
            " 18  Total_Trans_Ct                                                                                                                      10127 non-null  int64  \n",
            " 19  Total_Ct_Chng_Q4_Q1                                                                                                                 10127 non-null  float64\n",
            " 20  Avg_Utilization_Ratio                                                                                                               10127 non-null  float64\n",
            " 21  Naive_Bayes_Classifier_Attrition_Flag_Card_Category_Contacts_Count_12_mon_Dependent_count_Education_Level_Months_Inactive_12_mon_1  10127 non-null  float64\n",
            " 22  Naive_Bayes_Classifier_Attrition_Flag_Card_Category_Contacts_Count_12_mon_Dependent_count_Education_Level_Months_Inactive_12_mon_2  10127 non-null  float64\n",
            "dtypes: float64(7), int64(10), object(6)\n",
            "memory usage: 1.8+ MB\n"
          ]
        }
      ]
    },
    {
      "cell_type": "code",
      "source": [
        "import matplotlib as mpl\n",
        "import matplotlib.pyplot as plt\n",
        "import seaborn as sns\n"
      ],
      "metadata": {
        "id": "IKfcXnQ6-C5L"
      },
      "execution_count": null,
      "outputs": []
    },
    {
      "cell_type": "markdown",
      "source": [
        "#1. GRÁFICO DE PUNTOS:\n",
        "Se desea conocer si hay una representación o relación entre la edad y el límite de crédito de los clientes. Para esto se realiza un gráfico de puntos. "
      ],
      "metadata": {
        "id": "yWUlhYFGv17r"
      }
    },
    {
      "cell_type": "code",
      "source": [
        "fig, ax = plt.subplots()\n",
        "mpl.style.use('Solarize_Light2')\n",
        "ax.scatter(df['Customer_Age'],df['Credit_Limit'], alpha=0.7)\n",
        "ax.set_title('Customer Age vs. Credit Limit')\n",
        "ax.set_xlabel('Customer Age')\n",
        "ax.set_ylabel('Credit Limit')"
      ],
      "metadata": {
        "colab": {
          "base_uri": "https://localhost:8080/",
          "height": 491
        },
        "id": "oJxKLWQjAtrt",
        "outputId": "da95c26d-8233-48e3-f943-d0f4799f68ae"
      },
      "execution_count": null,
      "outputs": [
        {
          "output_type": "execute_result",
          "data": {
            "text/plain": [
              "Text(0, 0.5, 'Credit Limit')"
            ]
          },
          "metadata": {},
          "execution_count": 7
        },
        {
          "output_type": "display_data",
          "data": {
            "text/plain": [
              "<Figure size 640x480 with 1 Axes>"
            ],
            "image/png": "[encoded data removed]"
          },
          "metadata": {}
        }
      ]
    },
    {
      "cell_type": "markdown",
      "source": [
        "Se puede observar que los puntos se distribuyen al azar sin un patrón, la relación en  este caso es débil, considerando una falta de relación de dependencia. La concentración de estos puntos está en los límites de créditos bajos y entre las edades  40 y 50 con la mayor amplitud de límite. Sin poder sacar una conclusión relevante."
      ],
      "metadata": {
        "id": "EXG5KVP4v-VJ"
      }
    },
    {
      "cell_type": "markdown",
      "source": [
        "#2. HISTOGRAMA\n",
        "Se desea estudiar los valores de los límites de créditos actuales y su frecuencia. Para esto se realizará un histograma."
      ],
      "metadata": {
        "id": "qVdhkNvSuPeK"
      }
    },
    {
      "cell_type": "code",
      "source": [
        "mpl.style.use('classic')\n",
        "fig, ax = plt.subplots(figsize=(10,6))\n",
        "ax.hist(x= df.Credit_Limit, bins=None, density=False, orientation='vertical')\n",
        "ax.set_xlabel('Credit_Limit')\n",
        "ax.set_ylabel('Frecuencia')\n",
        "ax.set_title('Histograma de Credit Limit')"
      ],
      "metadata": {
        "colab": {
          "base_uri": "https://localhost:8080/",
          "height": 487
        },
        "id": "4vKMGLcKrj2i",
        "outputId": "44cbf4bc-7517-4105-d965-a1888e2a5856"
      },
      "execution_count": null,
      "outputs": [
        {
          "output_type": "execute_result",
          "data": {
            "text/plain": [
              "Text(0.5, 1.0, 'Histograma de Credit Limit')"
            ]
          },
          "metadata": {},
          "execution_count": 8
        },
        {
          "output_type": "display_data",
          "data": {
            "text/plain": [
              "<Figure size 800x480 with 1 Axes>"
            ],
            "image/png": "[encoded data removed]"
          },
          "metadata": {}
        }
      ]
    },
    {
      "cell_type": "markdown",
      "source": [
        "La frecuencia más alta se encuentra entre los límites de crédito más bajo, siendo de este modo conservador y comparando con el gráfico anterior podemos verificar que mayormente los créditos están en los rangos bajos."
      ],
      "metadata": {
        "id": "7aQ8ki2rwPia"
      }
    },
    {
      "cell_type": "markdown",
      "source": [
        "#3. PIECHART:\n",
        "Para saber la distribución del Marital Status, se realiza un piechart, creo un new df para contar los valores de cada categoría y luego graficar."
      ],
      "metadata": {
        "id": "EXfBSzsxVpm8"
      }
    },
    {
      "cell_type": "code",
      "source": [
        "new_df = df['Marital_Status'].value_counts().rename_axis('sub_cat_values').reset_index(name='counts')\n",
        "new_df.head(4)"
      ],
      "metadata": {
        "colab": {
          "base_uri": "https://localhost:8080/",
          "height": 175
        },
        "id": "gdwaEPKCTxg0",
        "outputId": "71087762-ffcb-4f11-b218-4cbcd6b498b3"
      },
      "execution_count": null,
      "outputs": [
        {
          "output_type": "execute_result",
          "data": {
            "text/plain": [
              "  sub_cat_values  counts\n",
              "0        Married    4687\n",
              "1         Single    3943\n",
              "2        Unknown     749\n",
              "3       Divorced     748"
            ],
            "text/html": [
              "\n",
              "  <div id=\"df-feed835b-da7b-4371-8023-9788b4131cf3\">\n",
              "    <div class=\"colab-df-container\">\n",
              "      <div>\n",
              "<style scoped>\n",
              "    .dataframe tbody tr th:only-of-type {\n",
              "        vertical-align: middle;\n",
              "    }\n",
              "\n",
              "    .dataframe tbody tr th {\n",
              "        vertical-align: top;\n",
              "    }\n",
              "\n",
              "    .dataframe thead th {\n",
              "        text-align: right;\n",
              "    }\n",
              "</style>\n",
              "<table border=\"1\" class=\"dataframe\">\n",
              "  <thead>\n",
              "    <tr style=\"text-align: right;\">\n",
              "      <th></th>\n",
              "      <th>sub_cat_values</th>\n",
              "      <th>counts</th>\n",
              "    </tr>\n",
              "  </thead>\n",
              "  <tbody>\n",
              "    <tr>\n",
              "      <th>0</th>\n",
              "      <td>Married</td>\n",
              "      <td>4687</td>\n",
              "    </tr>\n",
              "    <tr>\n",
              "      <th>1</th>\n",
              "      <td>Single</td>\n",
              "      <td>3943</td>\n",
              "    </tr>\n",
              "    <tr>\n",
              "      <th>2</th>\n",
              "      <td>Unknown</td>\n",
              "      <td>749</td>\n",
              "    </tr>\n",
              "    <tr>\n",
              "      <th>3</th>\n",
              "      <td>Divorced</td>\n",
              "      <td>748</td>\n",
              "    </tr>\n",
              "  </tbody>\n",
              "</table>\n",
              "</div>\n",
              "      <button class=\"colab-df-convert\" onclick=\"convertToInteractive('df-feed835b-da7b-4371-8023-9788b4131cf3')\"\n",
              "              title=\"Convert this dataframe to an interactive table.\"\n",
              "              style=\"display:none;\">\n",
              "        \n",
              "  <svg xmlns=\"http://www.w3.org/2000/svg\" height=\"24px\"viewBox=\"0 0 24 24\"\n",
              "       width=\"24px\">\n",
              "    <path d=\"M0 0h24v24H0V0z\" fill=\"none\"/>\n",
              "    <path d=\"M18.56 5.44l.94 2.06.94-2.06 2.06-.94-2.06-.94-.94-2.06-.94 2.06-2.06.94zm-11 1L8.5 8.5l.94-2.06 2.06-.94-2.06-.94L8.5 2.5l-.94 2.06-2.06.94zm10 10l.94 2.06.94-2.06 2.06-.94-2.06-.94-.94-2.06-.94 2.06-2.06.94z\"/><path d=\"M17.41 7.96l-1.37-1.37c-.4-.4-.92-.59-1.43-.59-.52 0-1.04.2-1.43.59L10.3 9.45l-7.72 7.72c-.78.78-.78 2.05 0 2.83L4 21.41c.39.39.9.59 1.41.59.51 0 1.02-.2 1.41-.59l7.78-7.78 2.81-2.81c.8-.78.8-2.07 0-2.86zM5.41 20L4 18.59l7.72-7.72 1.47 1.35L5.41 20z\"/>\n",
              "  </svg>\n",
              "      </button>\n",
              "      \n",
              "  <style>\n",
              "    .colab-df-container {\n",
              "      display:flex;\n",
              "      flex-wrap:wrap;\n",
              "      gap: 12px;\n",
              "    }\n",
              "\n",
              "    .colab-df-convert {\n",
              "      background-color: #E8F0FE;\n",
              "      border: none;\n",
              "      border-radius: 50%;\n",
              "      cursor: pointer;\n",
              "      display: none;\n",
              "      fill: #1967D2;\n",
              "      height: 32px;\n",
              "      padding: 0 0 0 0;\n",
              "      width: 32px;\n",
              "    }\n",
              "\n",
              "    .colab-df-convert:hover {\n",
              "      background-color: #E2EBFA;\n",
              "      box-shadow: 0px 1px 2px rgba(60, 64, 67, 0.3), 0px 1px 3px 1px rgba(60, 64, 67, 0.15);\n",
              "      fill: #174EA6;\n",
              "    }\n",
              "\n",
              "    [theme=dark] .colab-df-convert {\n",
              "      background-color: #3B4455;\n",
              "      fill: #D2E3FC;\n",
              "    }\n",
              "\n",
              "    [theme=dark] .colab-df-convert:hover {\n",
              "      background-color: #434B5C;\n",
              "      box-shadow: 0px 1px 3px 1px rgba(0, 0, 0, 0.15);\n",
              "      filter: drop-shadow(0px 1px 2px rgba(0, 0, 0, 0.3));\n",
              "      fill: #FFFFFF;\n",
              "    }\n",
              "  </style>\n",
              "\n",
              "      <script>\n",
              "        const buttonEl =\n",
              "          document.querySelector('#df-feed835b-da7b-4371-8023-9788b4131cf3 button.colab-df-convert');\n",
              "        buttonEl.style.display =\n",
              "          google.colab.kernel.accessAllowed ? 'block' : 'none';\n",
              "\n",
              "        async function convertToInteractive(key) {\n",
              "          const element = document.querySelector('#df-feed835b-da7b-4371-8023-9788b4131cf3');\n",
              "          const dataTable =\n",
              "            await google.colab.kernel.invokeFunction('convertToInteractive',\n",
              "                                                     [key], {});\n",
              "          if (!dataTable) return;\n",
              "\n",
              "          const docLinkHtml = 'Like what you see? Visit the ' +\n",
              "            '<a target=\"_blank\" href=https://colab.research.google.com/notebooks/data_table.ipynb>data table notebook</a>'\n",
              "            + ' to learn more about interactive tables.';\n",
              "          element.innerHTML = '';\n",
              "          dataTable['output_type'] = 'display_data';\n",
              "          await google.colab.output.renderOutput(dataTable, element);\n",
              "          const docLink = document.createElement('div');\n",
              "          docLink.innerHTML = docLinkHtml;\n",
              "          element.appendChild(docLink);\n",
              "        }\n",
              "      </script>\n",
              "    </div>\n",
              "  </div>\n",
              "  "
            ]
          },
          "metadata": {},
          "execution_count": 9
        }
      ]
    },
    {
      "cell_type": "code",
      "source": [
        "# set Lables and Values\n",
        "Labels = new_df.sub_cat_values\n",
        "Values = new_df.counts"
      ],
      "metadata": {
        "id": "eV6vzJvMUjYU"
      },
      "execution_count": null,
      "outputs": []
    },
    {
      "cell_type": "code",
      "source": [
        "fig,ax = plt.subplots(figsize =(10,7))\n",
        "ax.pie( Values,labels = Labels)\n",
        "\n"
      ],
      "metadata": {
        "colab": {
          "base_uri": "https://localhost:8080/",
          "height": 620
        },
        "id": "XX10HSzOn60z",
        "outputId": "a59f233c-bdcd-4559-9b0f-569f1267f49d"
      },
      "execution_count": null,
      "outputs": [
        {
          "output_type": "execute_result",
          "data": {
            "text/plain": [
              "([<matplotlib.patches.Wedge at 0x7f304b42bdc0>,\n",
              "  <matplotlib.patches.Wedge at 0x7f304b40e8f0>,\n",
              "  <matplotlib.patches.Wedge at 0x7f3049a646d0>,\n",
              "  <matplotlib.patches.Wedge at 0x7f3049a64b50>],\n",
              " [Text(0.1281854519425032, 1.092505601775248, 'Married'),\n",
              "  Text(-0.6039264839528234, -0.9193871882837938, 'Single'),\n",
              "  Text(0.843841918694123, -0.7056421304419268, 'Unknown'),\n",
              "  Text(1.0705181790981453, -0.2529640848428716, 'Divorced')])"
            ]
          },
          "metadata": {},
          "execution_count": 11
        },
        {
          "output_type": "display_data",
          "data": {
            "text/plain": [
              "<Figure size 800x560 with 1 Axes>"
            ],
            "image/png": "[encoded data removed]"
          },
          "metadata": {}
        }
      ]
    },
    {
      "cell_type": "markdown",
      "source": [
        "Se observa en el gráfico que el mayor % lo tiene el estatus Married seguido por el Single."
      ],
      "metadata": {
        "id": "TvY66UFvWJ2b"
      }
    },
    {
      "cell_type": "markdown",
      "source": [
        "#4. PIECHART: \n",
        "Para saber la distribución Card_Category, se realiza un piechart, creo un new df para contar los valores de cada categoría y luego graficar."
      ],
      "metadata": {
        "id": "2g7qB5C-1Iao"
      }
    },
    {
      "cell_type": "code",
      "source": [
        "new_df = df['Card_Category'].value_counts().rename_axis('sub_cat_values').reset_index(name='counts')\n",
        "new_df.head(4)"
      ],
      "metadata": {
        "colab": {
          "base_uri": "https://localhost:8080/",
          "height": 175
        },
        "id": "5mg2KiYi0sTF",
        "outputId": "e71808f3-2e68-49a1-d50b-b10dec157499"
      },
      "execution_count": null,
      "outputs": [
        {
          "output_type": "execute_result",
          "data": {
            "text/plain": [
              "  sub_cat_values  counts\n",
              "0           Blue    9436\n",
              "1         Silver     555\n",
              "2           Gold     116\n",
              "3       Platinum      20"
            ],
            "text/html": [
              "\n",
              "  <div id=\"df-817c2ee2-a44c-4f6d-b0da-71d04ff66605\">\n",
              "    <div class=\"colab-df-container\">\n",
              "      <div>\n",
              "<style scoped>\n",
              "    .dataframe tbody tr th:only-of-type {\n",
              "        vertical-align: middle;\n",
              "    }\n",
              "\n",
              "    .dataframe tbody tr th {\n",
              "        vertical-align: top;\n",
              "    }\n",
              "\n",
              "    .dataframe thead th {\n",
              "        text-align: right;\n",
              "    }\n",
              "</style>\n",
              "<table border=\"1\" class=\"dataframe\">\n",
              "  <thead>\n",
              "    <tr style=\"text-align: right;\">\n",
              "      <th></th>\n",
              "      <th>sub_cat_values</th>\n",
              "      <th>counts</th>\n",
              "    </tr>\n",
              "  </thead>\n",
              "  <tbody>\n",
              "    <tr>\n",
              "      <th>0</th>\n",
              "      <td>Blue</td>\n",
              "      <td>9436</td>\n",
              "    </tr>\n",
              "    <tr>\n",
              "      <th>1</th>\n",
              "      <td>Silver</td>\n",
              "      <td>555</td>\n",
              "    </tr>\n",
              "    <tr>\n",
              "      <th>2</th>\n",
              "      <td>Gold</td>\n",
              "      <td>116</td>\n",
              "    </tr>\n",
              "    <tr>\n",
              "      <th>3</th>\n",
              "      <td>Platinum</td>\n",
              "      <td>20</td>\n",
              "    </tr>\n",
              "  </tbody>\n",
              "</table>\n",
              "</div>\n",
              "      <button class=\"colab-df-convert\" onclick=\"convertToInteractive('df-817c2ee2-a44c-4f6d-b0da-71d04ff66605')\"\n",
              "              title=\"Convert this dataframe to an interactive table.\"\n",
              "              style=\"display:none;\">\n",
              "        \n",
              "  <svg xmlns=\"http://www.w3.org/2000/svg\" height=\"24px\"viewBox=\"0 0 24 24\"\n",
              "       width=\"24px\">\n",
              "    <path d=\"M0 0h24v24H0V0z\" fill=\"none\"/>\n",
              "    <path d=\"M18.56 5.44l.94 2.06.94-2.06 2.06-.94-2.06-.94-.94-2.06-.94 2.06-2.06.94zm-11 1L8.5 8.5l.94-2.06 2.06-.94-2.06-.94L8.5 2.5l-.94 2.06-2.06.94zm10 10l.94 2.06.94-2.06 2.06-.94-2.06-.94-.94-2.06-.94 2.06-2.06.94z\"/><path d=\"M17.41 7.96l-1.37-1.37c-.4-.4-.92-.59-1.43-.59-.52 0-1.04.2-1.43.59L10.3 9.45l-7.72 7.72c-.78.78-.78 2.05 0 2.83L4 21.41c.39.39.9.59 1.41.59.51 0 1.02-.2 1.41-.59l7.78-7.78 2.81-2.81c.8-.78.8-2.07 0-2.86zM5.41 20L4 18.59l7.72-7.72 1.47 1.35L5.41 20z\"/>\n",
              "  </svg>\n",
              "      </button>\n",
              "      \n",
              "  <style>\n",
              "    .colab-df-container {\n",
              "      display:flex;\n",
              "      flex-wrap:wrap;\n",
              "      gap: 12px;\n",
              "    }\n",
              "\n",
              "    .colab-df-convert {\n",
              "      background-color: #E8F0FE;\n",
              "      border: none;\n",
              "      border-radius: 50%;\n",
              "      cursor: pointer;\n",
              "      display: none;\n",
              "      fill: #1967D2;\n",
              "      height: 32px;\n",
              "      padding: 0 0 0 0;\n",
              "      width: 32px;\n",
              "    }\n",
              "\n",
              "    .colab-df-convert:hover {\n",
              "      background-color: #E2EBFA;\n",
              "      box-shadow: 0px 1px 2px rgba(60, 64, 67, 0.3), 0px 1px 3px 1px rgba(60, 64, 67, 0.15);\n",
              "      fill: #174EA6;\n",
              "    }\n",
              "\n",
              "    [theme=dark] .colab-df-convert {\n",
              "      background-color: #3B4455;\n",
              "      fill: #D2E3FC;\n",
              "    }\n",
              "\n",
              "    [theme=dark] .colab-df-convert:hover {\n",
              "      background-color: #434B5C;\n",
              "      box-shadow: 0px 1px 3px 1px rgba(0, 0, 0, 0.15);\n",
              "      filter: drop-shadow(0px 1px 2px rgba(0, 0, 0, 0.3));\n",
              "      fill: #FFFFFF;\n",
              "    }\n",
              "  </style>\n",
              "\n",
              "      <script>\n",
              "        const buttonEl =\n",
              "          document.querySelector('#df-817c2ee2-a44c-4f6d-b0da-71d04ff66605 button.colab-df-convert');\n",
              "        buttonEl.style.display =\n",
              "          google.colab.kernel.accessAllowed ? 'block' : 'none';\n",
              "\n",
              "        async function convertToInteractive(key) {\n",
              "          const element = document.querySelector('#df-817c2ee2-a44c-4f6d-b0da-71d04ff66605');\n",
              "          const dataTable =\n",
              "            await google.colab.kernel.invokeFunction('convertToInteractive',\n",
              "                                                     [key], {});\n",
              "          if (!dataTable) return;\n",
              "\n",
              "          const docLinkHtml = 'Like what you see? Visit the ' +\n",
              "            '<a target=\"_blank\" href=https://colab.research.google.com/notebooks/data_table.ipynb>data table notebook</a>'\n",
              "            + ' to learn more about interactive tables.';\n",
              "          element.innerHTML = '';\n",
              "          dataTable['output_type'] = 'display_data';\n",
              "          await google.colab.output.renderOutput(dataTable, element);\n",
              "          const docLink = document.createElement('div');\n",
              "          docLink.innerHTML = docLinkHtml;\n",
              "          element.appendChild(docLink);\n",
              "        }\n",
              "      </script>\n",
              "    </div>\n",
              "  </div>\n",
              "  "
            ]
          },
          "metadata": {},
          "execution_count": 12
        }
      ]
    },
    {
      "cell_type": "code",
      "source": [
        "# set Lables and Values\n",
        "Labels = new_df.sub_cat_values\n",
        "Values = new_df.counts"
      ],
      "metadata": {
        "id": "8UUdQI0Z07M1"
      },
      "execution_count": null,
      "outputs": []
    },
    {
      "cell_type": "code",
      "source": [
        "fig,ax = plt.subplots(figsize =(10,7))\n",
        "ax.pie( Values,labels = Labels)"
      ],
      "metadata": {
        "colab": {
          "base_uri": "https://localhost:8080/",
          "height": 620
        },
        "id": "d9ZyWAS31AF1",
        "outputId": "d5a0ee95-5e72-4c10-a9fb-8c89e7f3a328"
      },
      "execution_count": null,
      "outputs": [
        {
          "output_type": "execute_result",
          "data": {
            "text/plain": [
              "([<matplotlib.patches.Wedge at 0x7f3049a8b1c0>,\n",
              "  <matplotlib.patches.Wedge at 0x7f3049a663e0>,\n",
              "  <matplotlib.patches.Wedge at 0x7f3049a8b9a0>,\n",
              "  <matplotlib.patches.Wedge at 0x7f3049a8be20>],\n",
              " [Text(-1.0748236255123569, 0.23399609834455073, 'Blue'),\n",
              "  Text(1.0639978565404307, -0.2791210512974062, 'Silver'),\n",
              "  Text(1.0987121518876948, -0.053212848958794905, 'Gold'),\n",
              "  Text(1.0999788283477512, -0.006824748105858277, 'Platinum')])"
            ]
          },
          "metadata": {},
          "execution_count": 14
        },
        {
          "output_type": "display_data",
          "data": {
            "text/plain": [
              "<Figure size 800x560 with 1 Axes>"
            ],
            "image/png": "[encoded data removed]"
          },
          "metadata": {}
        }
      ]
    },
    {
      "cell_type": "markdown",
      "source": [
        "La conclusión que podemos observar en los últimos gráficos es que el banco es muy conservador, manteniendo el límite de crédito bajo para la mayoría de los clientes lo cual corresponde con el alto porcentaje de la categoría \"Blue\" (tarjeta de menor categoría)"
      ],
      "metadata": {
        "id": "qTZ04BRo1WA3"
      }
    },
    {
      "cell_type": "markdown",
      "source": [
        "CON SEABORN\n",
        "#5. HISTOGRAMA\n",
        "Se gráfica para saber cuántos cliente son: Existing Customer y Attrited Customer, y tener conocimiento de la cantidad de clientes que se han perdido a lo largo del tiempo."
      ],
      "metadata": {
        "id": "WrtOtEe7fM7L"
      }
    },
    {
      "cell_type": "code",
      "source": [
        "# Histograma\n",
        "Attrition = df['Attrition_Flag']\n",
        "# Axis-Level\n",
        "sns.histplot(data=Attrition,)\n"
      ],
      "metadata": {
        "id": "UEB8ZTwrrD3L",
        "colab": {
          "base_uri": "https://localhost:8080/",
          "height": 476
        },
        "outputId": "7a532187-e982-441c-ac30-642cf3c42499"
      },
      "execution_count": null,
      "outputs": [
        {
          "output_type": "execute_result",
          "data": {
            "text/plain": [
              "<Axes: xlabel='Attrition_Flag', ylabel='Count'>"
            ]
          },
          "metadata": {},
          "execution_count": 15
        },
        {
          "output_type": "display_data",
          "data": {
            "text/plain": [
              "<Figure size 640x480 with 1 Axes>"
            ],
            "image/png": "[encoded data removed]"
          },
          "metadata": {}
        }
      ]
    },
    {
      "cell_type": "markdown",
      "source": [
        "Se puede observar en el gráfico que supera ampliamente en cantidad el Existing Customer, queda analizar el % de Attrited Customer, estos clientes que se han perdido a lo largo del tiempo."
      ],
      "metadata": {
        "id": "lBlENyMvH83V"
      }
    },
    {
      "cell_type": "markdown",
      "source": [
        "# 6. FIGURE-LEVEL \n",
        "Se genera un figure-level para identificar cuántos de estos clientes son Masculinos o Femeninos."
      ],
      "metadata": {
        "id": "Cvbxulx3JVT8"
      }
    },
    {
      "cell_type": "code",
      "source": [
        "# Figure-level\n",
        "sns.displot(data=df, x='Attrition_Flag', hue='Gender',multiple='stack')"
      ],
      "metadata": {
        "colab": {
          "base_uri": "https://localhost:8080/",
          "height": 421
        },
        "id": "krTYBr4aIWyN",
        "outputId": "b61ecc5b-877f-42e5-fd89-3908c80656dc"
      },
      "execution_count": null,
      "outputs": [
        {
          "output_type": "execute_result",
          "data": {
            "text/plain": [
              "<seaborn.axisgrid.FacetGrid at 0x7f304b3da710>"
            ]
          },
          "metadata": {},
          "execution_count": 16
        },
        {
          "output_type": "display_data",
          "data": {
            "text/plain": [
              "<Figure size 471.475x400 with 1 Axes>"
            ],
            "image/png": "[encoded data removed]"
          },
          "metadata": {}
        }
      ]
    },
    {
      "cell_type": "markdown",
      "source": [
        "Se puede observar que el mayor % de ambos escenarios son F, sin embargo el valor está bastante parejo para llegar a una conclusión relevante."
      ],
      "metadata": {
        "id": "Gwbn89fcKW8b"
      }
    },
    {
      "cell_type": "markdown",
      "source": [
        "# 7. BARPLOT\n",
        "Se genera un BARPLOT para identificar según el Education_Level el límite de crédito asignado. Para corroborar si tiene alguna influencia en el límite."
      ],
      "metadata": {
        "id": "NKSzHKQfPTPb"
      }
    },
    {
      "cell_type": "code",
      "source": [
        "# Barplot\n",
        "sns.set_theme(style=\"whitegrid\")\n",
        "ax = sns.barplot(x=\"Education_Level\", y=\"Credit_Limit\", data=df)"
      ],
      "metadata": {
        "colab": {
          "base_uri": "https://localhost:8080/",
          "height": 466
        },
        "id": "CThUYV-uMT9r",
        "outputId": "47e17fde-6c1e-45be-dda6-0010d3325c0a"
      },
      "execution_count": null,
      "outputs": [
        {
          "output_type": "display_data",
          "data": {
            "text/plain": [
              "<Figure size 640x480 with 1 Axes>"
            ],
            "image/png": "[encoded data removed]"
          },
          "metadata": {}
        }
      ]
    },
    {
      "cell_type": "markdown",
      "source": [
        "El mayor límite de crédito se refleja en Post-Graduate, sin embargo es necesario realizar otro análisis con más parámetros para determinar si realmente esto influye en el límite de crédito."
      ],
      "metadata": {
        "id": "r82xJ5M6PrPD"
      }
    },
    {
      "cell_type": "markdown",
      "source": [
        "# 1. PREGUNTAS DE INTERÉS O HIPÓTESIS\n",
        "Objetivo General:\n",
        "\n",
        "Opción 1\n",
        "1. Cuál sería el límite de crédito para otorgar a un cliente nuevo basado en la historía que se tiene según las variables?\n",
        "\n",
        "Opción 2\n",
        "2. Cuál es la Probabilidad que un cliente se dé de baja?\n",
        "\n",
        "Objetivos específicos:\n",
        "3. Hay una relación directa con los límites de crédito y edad? o límites de crédito y nivel de educación?\n",
        "4. Cuáles son los clientes que mejor pagan?\n",
        "5. Cuál es la Distribución de clientes que se dan de baja?\n"
      ],
      "metadata": {
        "id": "3BgcSDHtn-2H"
      }
    },
    {
      "cell_type": "markdown",
      "source": [
        "# 2. Visualizaciones: Univariados y Bivariados"
      ],
      "metadata": {
        "id": "8JGg22xVpVjf"
      }
    },
    {
      "cell_type": "markdown",
      "source": [
        "Univariabo: Bar chart"
      ],
      "metadata": {
        "id": "gWVYAUjOpe3X"
      }
    },
    {
      "cell_type": "code",
      "source": [
        "df_n=df[['CLIENTNUM','Education_Level','Gender']].groupby(by=['Education_Level','Gender']).count().reset_index()\n",
        "df_n.head()\n",
        "plt.figure(figsize=(10,6))\n",
        "p = sns.barplot(y='CLIENTNUM',x='Education_Level',hue='Gender',data=df_n);\n",
        "p.set_ylabel('Customer')\n"
      ],
      "metadata": {
        "colab": {
          "base_uri": "https://localhost:8080/",
          "height": 483
        },
        "id": "vPB_XZ_ZrQQs",
        "outputId": "b566850a-4e38-41db-d616-8c5de382468a"
      },
      "execution_count": null,
      "outputs": [
        {
          "output_type": "execute_result",
          "data": {
            "text/plain": [
              "Text(0, 0.5, 'Customer')"
            ]
          },
          "metadata": {},
          "execution_count": 18
        },
        {
          "output_type": "display_data",
          "data": {
            "text/plain": [
              "<Figure size 800x480 with 1 Axes>"
            ],
            "image/png": "[encoded data removed]"
          },
          "metadata": {}
        }
      ]
    },
    {
      "cell_type": "markdown",
      "source": [
        "Se observa en el gráfico la mayoría de los clientes presentan un nivel de educación \"Graduate\" y en todas las categorías la mayoría de los clientes presentan género masculino. Sin embargo con el gráfico anterior podemos visualizar que no necesariamente esta categoría de \"Graduate\" tiene el mayor Credit_Limit. El post-graduate es una de las categorías con mayor límite de crédito y presenta menor cantidad de clientes para esta categoría, teniendo sentido si la mayoría de los límites de créditos son bajos."
      ],
      "metadata": {
        "id": "fsKR5N_XyjPa"
      }
    },
    {
      "cell_type": "markdown",
      "source": [
        "Bivariado: Boxplot"
      ],
      "metadata": {
        "id": "vFxuA5Kv0GCx"
      }
    },
    {
      "cell_type": "code",
      "source": [
        "plt.figure(figsize=(10,6))\n",
        "sns.boxplot(x=df.Gender, y= df.Total_Revolving_Bal, hue=df.Card_Category)\n",
        "plt.title('Boxplot comparativo Gender vs Total_Revolving_Bal')\n",
        "plt.xlabel('Gender')\n",
        "plt.ylabel('Total_Revolving_Bal')"
      ],
      "metadata": {
        "colab": {
          "base_uri": "https://localhost:8080/",
          "height": 492
        },
        "id": "rjiGNNDS2XyD",
        "outputId": "a3619ce9-f543-45b3-fc56-ae0e776304a3"
      },
      "execution_count": null,
      "outputs": [
        {
          "output_type": "execute_result",
          "data": {
            "text/plain": [
              "Text(0, 0.5, 'Total_Revolving_Bal')"
            ]
          },
          "metadata": {},
          "execution_count": 19
        },
        {
          "output_type": "display_data",
          "data": {
            "text/plain": [
              "<Figure size 800x480 with 1 Axes>"
            ],
            "image/png": "[encoded data removed]"
          },
          "metadata": {}
        }
      ]
    },
    {
      "cell_type": "markdown",
      "source": [
        "Entendiendo el concepto de Total_Revolving_Bal:Si el cliente no paga el saldo de su cuenta de crédito en su totalidad el mes correspondiente, la parte impaga se transfiere al mes siguiente. De este dato se podría sacar conclusiones sobre si son buenos pagadores o no, separado por categoría."
      ],
      "metadata": {
        "id": "igMtwh1C4A1Q"
      }
    },
    {
      "cell_type": "markdown",
      "source": [
        "# Gráfico BoxPlot para comparar los balances impagos vs. el género"
      ],
      "metadata": {
        "id": "Mrzt8ziTPIDl"
      }
    },
    {
      "cell_type": "code",
      "source": [
        "plt.figure(figsize=(10,6))\n",
        "sns.boxplot(x=df.Gender, y= df.Total_Revolving_Bal)\n",
        "plt.title('Boxplot comparativo Gender vs Total_Revolving_Bal')\n",
        "plt.xlabel('Gender')\n",
        "plt.ylabel('Total_Revolving_Bal')"
      ],
      "metadata": {
        "colab": {
          "base_uri": "https://localhost:8080/",
          "height": 492
        },
        "id": "WSFeq1HnMM0e",
        "outputId": "1ef162d3-6fdc-413b-f906-edab32724b40"
      },
      "execution_count": null,
      "outputs": [
        {
          "output_type": "execute_result",
          "data": {
            "text/plain": [
              "Text(0, 0.5, 'Total_Revolving_Bal')"
            ]
          },
          "metadata": {},
          "execution_count": 20
        },
        {
          "output_type": "display_data",
          "data": {
            "text/plain": [
              "<Figure size 800x480 with 1 Axes>"
            ],
            "image/png": "[encoded data removed]"
          },
          "metadata": {}
        }
      ]
    },
    {
      "cell_type": "markdown",
      "source": [
        "La mediana de hombres es ligeramente mayor que la mediana para mujeres, y la variabilidad para mujeres es mayor que la de hombres. Este datos es referente a los impagos de ambos casos."
      ],
      "metadata": {
        "id": "OKBH2Rf1OgjA"
      }
    },
    {
      "cell_type": "markdown",
      "source": [
        "# Resúmenes numéricos básicos acordes con los tipos de variables disponibles."
      ],
      "metadata": {
        "id": "f4pN9vpUPlj-"
      }
    },
    {
      "cell_type": "markdown",
      "source": [
        "Modelo lineal simple por medio de la librería statsmodels"
      ],
      "metadata": {
        "id": "68zz9JRCQCgW"
      }
    },
    {
      "cell_type": "code",
      "source": [
        "import statsmodels.formula.api as sm"
      ],
      "metadata": {
        "id": "FsYHCxVERTBI"
      },
      "execution_count": null,
      "outputs": []
    },
    {
      "cell_type": "code",
      "source": [
        "model1 = 'Credit_Limit~Gender'\n",
        "lm1   = sm.ols(formula = model1, data = df).fit()\n",
        "print(lm1.summary())\n"
      ],
      "metadata": {
        "colab": {
          "base_uri": "https://localhost:8080/"
        },
        "id": "zIUbK-H5P9Rv",
        "outputId": "37bd3cc2-fef8-4c73-e85d-099bb9d843ab"
      },
      "execution_count": null,
      "outputs": [
        {
          "output_type": "stream",
          "name": "stdout",
          "text": [
            "                            OLS Regression Results                            \n",
            "==============================================================================\n",
            "Dep. Variable:           Credit_Limit   R-squared:                       0.177\n",
            "Model:                            OLS   Adj. R-squared:                  0.177\n",
            "Method:                 Least Squares   F-statistic:                     2179.\n",
            "Date:                Tue, 16 May 2023   Prob (F-statistic):               0.00\n",
            "Time:                        12:33:38   Log-Likelihood:            -1.0569e+05\n",
            "No. Observations:               10127   AIC:                         2.114e+05\n",
            "Df Residuals:                   10125   BIC:                         2.114e+05\n",
            "Df Model:                           1                                         \n",
            "Covariance Type:            nonrobust                                         \n",
            "===============================================================================\n",
            "                  coef    std err          t      P>|t|      [0.025      0.975]\n",
            "-------------------------------------------------------------------------------\n",
            "Intercept    5023.8543    112.643     44.600      0.000    4803.051    5244.657\n",
            "Gender[T.M]  7661.8207    164.146     46.677      0.000    7340.061    7983.580\n",
            "==============================================================================\n",
            "Omnibus:                     2187.502   Durbin-Watson:                   1.838\n",
            "Prob(Omnibus):                  0.000   Jarque-Bera (JB):             4109.637\n",
            "Skew:                           1.344   Prob(JB):                         0.00\n",
            "Kurtosis:                       4.585   Cond. No.                         2.56\n",
            "==============================================================================\n",
            "\n",
            "Notes:\n",
            "[1] Standard Errors assume that the covariance matrix of the errors is correctly specified.\n"
          ]
        }
      ]
    },
    {
      "cell_type": "markdown",
      "source": [
        "Modelo lineal de regresión múltiple por medio de la librería statsmodels"
      ],
      "metadata": {
        "id": "JLvzQMBnWXBm"
      }
    },
    {
      "cell_type": "code",
      "source": [
        "model2 = 'Credit_Limit~Gender + Customer_Age'\n",
        "lm2   = sm.ols(formula = model2, data = df).fit()\n",
        "print(lm2.summary())"
      ],
      "metadata": {
        "colab": {
          "base_uri": "https://localhost:8080/"
        },
        "id": "6ib2rfq0WhNR",
        "outputId": "42ed7e08-8c58-4544-b788-23bb754e1254"
      },
      "execution_count": null,
      "outputs": [
        {
          "output_type": "stream",
          "name": "stdout",
          "text": [
            "                            OLS Regression Results                            \n",
            "==============================================================================\n",
            "Dep. Variable:           Credit_Limit   R-squared:                       0.177\n",
            "Model:                            OLS   Adj. R-squared:                  0.177\n",
            "Method:                 Least Squares   F-statistic:                     1090.\n",
            "Date:                Tue, 16 May 2023   Prob (F-statistic):               0.00\n",
            "Time:                        12:33:41   Log-Likelihood:            -1.0569e+05\n",
            "No. Observations:               10127   AIC:                         2.114e+05\n",
            "Df Residuals:                   10124   BIC:                         2.114e+05\n",
            "Df Model:                           2                                         \n",
            "Covariance Type:            nonrobust                                         \n",
            "================================================================================\n",
            "                   coef    std err          t      P>|t|      [0.025      0.975]\n",
            "--------------------------------------------------------------------------------\n",
            "Intercept     4509.5984    488.071      9.240      0.000    3552.883    5466.313\n",
            "Gender[T.M]   7664.8983    164.170     46.689      0.000    7343.093    7986.703\n",
            "Customer_Age    11.0695     10.222      1.083      0.279      -8.968      31.107\n",
            "==============================================================================\n",
            "Omnibus:                     2189.105   Durbin-Watson:                   1.838\n",
            "Prob(Omnibus):                  0.000   Jarque-Bera (JB):             4115.022\n",
            "Skew:                           1.345   Prob(JB):                         0.00\n",
            "Kurtosis:                       4.587   Cond. No.                         281.\n",
            "==============================================================================\n",
            "\n",
            "Notes:\n",
            "[1] Standard Errors assume that the covariance matrix of the errors is correctly specified.\n"
          ]
        }
      ]
    },
    {
      "cell_type": "code",
      "source": [
        "df['Customer_Age'].describe().round(1)"
      ],
      "metadata": {
        "colab": {
          "base_uri": "https://localhost:8080/"
        },
        "id": "20jRQEa9BKO8",
        "outputId": "71d59001-c4ee-41f6-f741-e9b4afc38686"
      },
      "execution_count": null,
      "outputs": [
        {
          "output_type": "execute_result",
          "data": {
            "text/plain": [
              "count    10127.0\n",
              "mean        46.3\n",
              "std          8.0\n",
              "min         26.0\n",
              "25%         41.0\n",
              "50%         46.0\n",
              "75%         52.0\n",
              "max         73.0\n",
              "Name: Customer_Age, dtype: float64"
            ]
          },
          "metadata": {},
          "execution_count": 24
        }
      ]
    },
    {
      "cell_type": "code",
      "source": [
        "df['Credit_Limit'].describe().round(1)"
      ],
      "metadata": {
        "colab": {
          "base_uri": "https://localhost:8080/"
        },
        "id": "V5A7Z6viDTwr",
        "outputId": "3947935f-90a0-4874-a4b9-429a2ccc8906"
      },
      "execution_count": null,
      "outputs": [
        {
          "output_type": "execute_result",
          "data": {
            "text/plain": [
              "count    10127.0\n",
              "mean      8632.0\n",
              "std       9088.8\n",
              "min       1438.3\n",
              "25%       2555.0\n",
              "50%       4549.0\n",
              "75%      11067.5\n",
              "max      34516.0\n",
              "Name: Credit_Limit, dtype: float64"
            ]
          },
          "metadata": {},
          "execution_count": 25
        }
      ]
    },
    {
      "cell_type": "markdown",
      "source": [
        "#3 Interpretación del modelo:\n",
        "1. Coeficiente género: muestra el masculino,el coeficiente es 7664.8983 para los empleados de la misma edad.\n",
        "2. Coeficiente edad:si la edad aumenta en un año, se espera que el límite de crédito aumente 11.0695\n",
        "3. Intercepto: Representa el efecto común a todos los individuos: 4509.5984\n",
        "4. Coeficiente R2:0.177 es demasiado bajo, el 17.7% de la variabilidad es explicada por el modelo lineal."
      ],
      "metadata": {
        "id": "NVXWWv8zEYbl"
      }
    },
    {
      "cell_type": "markdown",
      "source": [
        "# Resumen de estos primeros análisis\n",
        "1. Con los datos obtenidos se obtiene con el modelo que el % de la variabilidad explicada por el modelo final es muy baja, se tomó en cuenta límite de crédito y edad. en lo gráficos también se define que falta relación de dependencia de estas variables, la edad no sería determinante para otorgar un mayor límite de crédito.\n",
        "2. La mediana del saldo impago es mayor la de los hombres que la mediana de las mujeres, aunque estás tienen una mayor variabilidad.\n",
        "3. Para la mayoría de los clientes la categoría de tarjeta otorgada es Blue(categoría con menor límite de crédito), como hipótesis de este caso se requiere saber si es posible saber cuánto sería el límite otorgado para un nuevo cliente con las variables estudiadas."
      ],
      "metadata": {
        "id": "bP4MVKTpEb9D"
      }
    },
    {
      "cell_type": "markdown",
      "source": [
        "# Estructurando un Proyecto de DS (parte II)\n"
      ],
      "metadata": {
        "id": "OZQF5PPogk6b"
      }
    },
    {
      "cell_type": "markdown",
      "source": [
        "CONTEXTO COMERCIAL: \n",
        "Este proyecto contiene información bancaria en donde involucra la cartera de los clientes basado en las tarjetas de crédito, incluyendo detalles demográficos como la edad, género,estado civil,categoría de ingresos entre otros. El objetivo es ayudar con esta información a los analistas para predecir el comportamiento de los futuros clientes. Además, contiene datos clave sobre el comportamiento de gasto de los clientes acercándose a su decisión de abandono. Con esta información actualizada también se puede determinar la estabilidad de la cuenta a largo plazo, por lo tanto, nos ofrece una comprensión del comportamiento de cada caso cuando buscamos administrar una cartera o atender a clientes individuales.\n"
      ],
      "metadata": {
        "id": "3qMA64oxg4T7"
      }
    },
    {
      "cell_type": "markdown",
      "source": [
        "PROBLEMA COMERCIAL:\n",
        "La actividad principal es mostrar visualizaciones que permitan determinar patrones de los clientes y empezar a responder las preguntas que se plantean a continuación."
      ],
      "metadata": {
        "id": "Snz5kkAHkSnt"
      }
    },
    {
      "cell_type": "markdown",
      "source": [
        "CONTEXTO ANÁLITICO:\n",
        "Se trabajará sobre el dataset, en donde se incluye la principal información:\n",
        "\n",
        "CLIENTNUM', ID CLIENTE\n",
        "\n",
        "'Attrition_Flag':CLIENTES QUE SE HAN PERDIDO\n",
        "\n",
        "'Customer_Age': EDAD\n",
        "\n",
        "'Gender': GÉNERO\n",
        "\n",
        "'Education_Level':NIVEL DE EDUCACIÓN\n",
        "\n",
        "'Marital_Status': ESTADO CIVIL\n",
        "\n",
        "'Income_Category': INGRESOS\n",
        "\n",
        "'Card_Category': CATEGORÍA DE LA TARJETA\n",
        "\n",
        "'Months_on_book': MESES TRANSCURRIDOS DESDE LA FECHA DE INICIO DEL PRÉSTAMO\n",
        "\n",
        "'Credit_Limit', LÍMITE DE CRÉDITO\n",
        "\n",
        "'Total_Revolving_Bal': CRÉDITO RENOVABLE\n",
        "\n",
        "\n",
        "\n",
        "   "
      ],
      "metadata": {
        "id": "bNgKXnrtkm5a"
      }
    },
    {
      "cell_type": "markdown",
      "source": [
        " Para la primera etapa de visualización Se realizaron las siguientes preguntas:\n",
        "\n",
        "  1. ¿Hay relación entre edad y límite de crédito de los clientes?\n",
        "       (Gráfico de puntos)\n",
        "  2. Determinar la frecuencia de los límites de crédito\n",
        "       (Histograma)\n",
        "  3. Identificar la distribución del estado civil de los clientes.\n",
        "       (Piechart)\n",
        "  4. Identificar la distribución de las categorías de las tarjetas.\n",
        "       (Piechart)\n",
        "  5. ¿Cuántos clientes son los existentes y cuántos son los que abandonaron?\n",
        "       (Histograma)\n",
        "  6. En base a la visualización anterior identificar por género.\n",
        "       (Figure-Level)\n",
        "  7. Identificar según el nivel de educación el límite de crédito otorgado.\n",
        "       (Barplot)"
      ],
      "metadata": {
        "id": "DM4qt8oPoWpm"
      }
    },
    {
      "cell_type": "markdown",
      "source": [
        "# Estructurando un proyecto de DS-parte III"
      ],
      "metadata": {
        "id": "0np2khsI43QK"
      }
    },
    {
      "cell_type": "markdown",
      "source": [
        "Variable objetivo: elección de la variable objetivo"
      ],
      "metadata": {
        "id": "OqUu-T-2yFU6"
      }
    },
    {
      "cell_type": "code",
      "source": [
        "df = pd.get_dummies(df,columns=['Income_Category'])"
      ],
      "metadata": {
        "id": "URtpjJSq8dLs"
      },
      "execution_count": null,
      "outputs": []
    },
    {
      "cell_type": "code",
      "source": [
        "df = pd.get_dummies(df,columns=['Card_Category'])"
      ],
      "metadata": {
        "id": "KZRIlhmh8ffz"
      },
      "execution_count": null,
      "outputs": []
    },
    {
      "cell_type": "code",
      "source": [
        "df = pd.get_dummies(df,columns=['Gender'])"
      ],
      "metadata": {
        "id": "7WCTwigL8h4j"
      },
      "execution_count": null,
      "outputs": []
    },
    {
      "cell_type": "code",
      "source": [
        "df = pd.get_dummies(df,columns=['Education_Level'])"
      ],
      "metadata": {
        "id": "jqfCETY580z9"
      },
      "execution_count": null,
      "outputs": []
    },
    {
      "cell_type": "code",
      "source": [
        "df = pd.get_dummies(df,columns=['Attrition_Flag'])"
      ],
      "metadata": {
        "id": "opAgK7C59GAq"
      },
      "execution_count": null,
      "outputs": []
    },
    {
      "cell_type": "code",
      "source": [
        "df = pd.get_dummies(df,columns=['Marital_Status'])"
      ],
      "metadata": {
        "id": "O5Il-OgZ9Rqa"
      },
      "execution_count": null,
      "outputs": []
    },
    {
      "cell_type": "code",
      "source": [
        "import pandas as pd\n",
        "X = df.drop(\"Credit_Limit\", 1) # feature matrix\n",
        "y = df['Credit_Limit']  # target feature\n",
        "df.head()"
      ],
      "metadata": {
        "colab": {
          "base_uri": "https://localhost:8080/",
          "height": 352
        },
        "id": "3wtnvpLfyMJR",
        "outputId": "4372e8e6-567b-4a0d-d60b-2999f241dc11"
      },
      "execution_count": null,
      "outputs": [
        {
          "output_type": "stream",
          "name": "stderr",
          "text": [
            "<ipython-input-72-2a4b3b15ce81>:2: FutureWarning: In a future version of pandas all arguments of DataFrame.drop except for the argument 'labels' will be keyword-only.\n",
            "  X = df.drop(\"Credit_Limit\", 1) # feature matrix\n"
          ]
        },
        {
          "output_type": "execute_result",
          "data": {
            "text/plain": [
              "   CLIENTNUM  Customer_Age  Dependent_count  Months_on_book  \\\n",
              "0  768805383            45                3              39   \n",
              "1  818770008            49                5              44   \n",
              "2  713982108            51                3              36   \n",
              "3  769911858            40                4              34   \n",
              "4  709106358            40                3              21   \n",
              "\n",
              "   Total_Relationship_Count  Months_Inactive_12_mon  Contacts_Count_12_mon  \\\n",
              "0                         5                       1                      3   \n",
              "1                         6                       1                      2   \n",
              "2                         4                       1                      0   \n",
              "3                         3                       4                      1   \n",
              "4                         5                       1                      0   \n",
              "\n",
              "   Credit_Limit  Total_Revolving_Bal  Avg_Open_To_Buy  ...  \\\n",
              "0       12691.0                  777          11914.0  ...   \n",
              "1        8256.0                  864           7392.0  ...   \n",
              "2        3418.0                    0           3418.0  ...   \n",
              "3        3313.0                 2517            796.0  ...   \n",
              "4        4716.0                    0           4716.0  ...   \n",
              "\n",
              "   Education_Level_High School  Education_Level_Post-Graduate  \\\n",
              "0                            1                              0   \n",
              "1                            0                              0   \n",
              "2                            0                              0   \n",
              "3                            1                              0   \n",
              "4                            0                              0   \n",
              "\n",
              "   Education_Level_Uneducated  Education_Level_Unknown  \\\n",
              "0                           0                        0   \n",
              "1                           0                        0   \n",
              "2                           0                        0   \n",
              "3                           0                        0   \n",
              "4                           1                        0   \n",
              "\n",
              "   Attrition_Flag_Attrited Customer  Attrition_Flag_Existing Customer  \\\n",
              "0                                 0                                 1   \n",
              "1                                 0                                 1   \n",
              "2                                 0                                 1   \n",
              "3                                 0                                 1   \n",
              "4                                 0                                 1   \n",
              "\n",
              "   Marital_Status_Divorced  Marital_Status_Married  Marital_Status_Single  \\\n",
              "0                        0                       1                      0   \n",
              "1                        0                       0                      1   \n",
              "2                        0                       1                      0   \n",
              "3                        0                       0                      0   \n",
              "4                        0                       1                      0   \n",
              "\n",
              "   Marital_Status_Unknown  \n",
              "0                       0  \n",
              "1                       0  \n",
              "2                       0  \n",
              "3                       1  \n",
              "4                       0  \n",
              "\n",
              "[5 rows x 42 columns]"
            ],
            "text/html": [
              "\n",
              "  <div id=\"df-4549e391-52d0-4639-84a0-b15b3c32fc19\">\n",
              "    <div class=\"colab-df-container\">\n",
              "      <div>\n",
              "<style scoped>\n",
              "    .dataframe tbody tr th:only-of-type {\n",
              "        vertical-align: middle;\n",
              "    }\n",
              "\n",
              "    .dataframe tbody tr th {\n",
              "        vertical-align: top;\n",
              "    }\n",
              "\n",
              "    .dataframe thead th {\n",
              "        text-align: right;\n",
              "    }\n",
              "</style>\n",
              "<table border=\"1\" class=\"dataframe\">\n",
              "  <thead>\n",
              "    <tr style=\"text-align: right;\">\n",
              "      <th></th>\n",
              "      <th>CLIENTNUM</th>\n",
              "      <th>Customer_Age</th>\n",
              "      <th>Dependent_count</th>\n",
              "      <th>Months_on_book</th>\n",
              "      <th>Total_Relationship_Count</th>\n",
              "      <th>Months_Inactive_12_mon</th>\n",
              "      <th>Contacts_Count_12_mon</th>\n",
              "      <th>Credit_Limit</th>\n",
              "      <th>Total_Revolving_Bal</th>\n",
              "      <th>Avg_Open_To_Buy</th>\n",
              "      <th>...</th>\n",
              "      <th>Education_Level_High School</th>\n",
              "      <th>Education_Level_Post-Graduate</th>\n",
              "      <th>Education_Level_Uneducated</th>\n",
              "      <th>Education_Level_Unknown</th>\n",
              "      <th>Attrition_Flag_Attrited Customer</th>\n",
              "      <th>Attrition_Flag_Existing Customer</th>\n",
              "      <th>Marital_Status_Divorced</th>\n",
              "      <th>Marital_Status_Married</th>\n",
              "      <th>Marital_Status_Single</th>\n",
              "      <th>Marital_Status_Unknown</th>\n",
              "    </tr>\n",
              "  </thead>\n",
              "  <tbody>\n",
              "    <tr>\n",
              "      <th>0</th>\n",
              "      <td>768805383</td>\n",
              "      <td>45</td>\n",
              "      <td>3</td>\n",
              "      <td>39</td>\n",
              "      <td>5</td>\n",
              "      <td>1</td>\n",
              "      <td>3</td>\n",
              "      <td>12691.0</td>\n",
              "      <td>777</td>\n",
              "      <td>11914.0</td>\n",
              "      <td>...</td>\n",
              "      <td>1</td>\n",
              "      <td>0</td>\n",
              "      <td>0</td>\n",
              "      <td>0</td>\n",
              "      <td>0</td>\n",
              "      <td>1</td>\n",
              "      <td>0</td>\n",
              "      <td>1</td>\n",
              "      <td>0</td>\n",
              "      <td>0</td>\n",
              "    </tr>\n",
              "    <tr>\n",
              "      <th>1</th>\n",
              "      <td>818770008</td>\n",
              "      <td>49</td>\n",
              "      <td>5</td>\n",
              "      <td>44</td>\n",
              "      <td>6</td>\n",
              "      <td>1</td>\n",
              "      <td>2</td>\n",
              "      <td>8256.0</td>\n",
              "      <td>864</td>\n",
              "      <td>7392.0</td>\n",
              "      <td>...</td>\n",
              "      <td>0</td>\n",
              "      <td>0</td>\n",
              "      <td>0</td>\n",
              "      <td>0</td>\n",
              "      <td>0</td>\n",
              "      <td>1</td>\n",
              "      <td>0</td>\n",
              "      <td>0</td>\n",
              "      <td>1</td>\n",
              "      <td>0</td>\n",
              "    </tr>\n",
              "    <tr>\n",
              "      <th>2</th>\n",
              "      <td>713982108</td>\n",
              "      <td>51</td>\n",
              "      <td>3</td>\n",
              "      <td>36</td>\n",
              "      <td>4</td>\n",
              "      <td>1</td>\n",
              "      <td>0</td>\n",
              "      <td>3418.0</td>\n",
              "      <td>0</td>\n",
              "      <td>3418.0</td>\n",
              "      <td>...</td>\n",
              "      <td>0</td>\n",
              "      <td>0</td>\n",
              "      <td>0</td>\n",
              "      <td>0</td>\n",
              "      <td>0</td>\n",
              "      <td>1</td>\n",
              "      <td>0</td>\n",
              "      <td>1</td>\n",
              "      <td>0</td>\n",
              "      <td>0</td>\n",
              "    </tr>\n",
              "    <tr>\n",
              "      <th>3</th>\n",
              "      <td>769911858</td>\n",
              "      <td>40</td>\n",
              "      <td>4</td>\n",
              "      <td>34</td>\n",
              "      <td>3</td>\n",
              "      <td>4</td>\n",
              "      <td>1</td>\n",
              "      <td>3313.0</td>\n",
              "      <td>2517</td>\n",
              "      <td>796.0</td>\n",
              "      <td>...</td>\n",
              "      <td>1</td>\n",
              "      <td>0</td>\n",
              "      <td>0</td>\n",
              "      <td>0</td>\n",
              "      <td>0</td>\n",
              "      <td>1</td>\n",
              "      <td>0</td>\n",
              "      <td>0</td>\n",
              "      <td>0</td>\n",
              "      <td>1</td>\n",
              "    </tr>\n",
              "    <tr>\n",
              "      <th>4</th>\n",
              "      <td>709106358</td>\n",
              "      <td>40</td>\n",
              "      <td>3</td>\n",
              "      <td>21</td>\n",
              "      <td>5</td>\n",
              "      <td>1</td>\n",
              "      <td>0</td>\n",
              "      <td>4716.0</td>\n",
              "      <td>0</td>\n",
              "      <td>4716.0</td>\n",
              "      <td>...</td>\n",
              "      <td>0</td>\n",
              "      <td>0</td>\n",
              "      <td>1</td>\n",
              "      <td>0</td>\n",
              "      <td>0</td>\n",
              "      <td>1</td>\n",
              "      <td>0</td>\n",
              "      <td>1</td>\n",
              "      <td>0</td>\n",
              "      <td>0</td>\n",
              "    </tr>\n",
              "  </tbody>\n",
              "</table>\n",
              "<p>5 rows × 42 columns</p>\n",
              "</div>\n",
              "      <button class=\"colab-df-convert\" onclick=\"convertToInteractive('df-4549e391-52d0-4639-84a0-b15b3c32fc19')\"\n",
              "              title=\"Convert this dataframe to an interactive table.\"\n",
              "              style=\"display:none;\">\n",
              "        \n",
              "  <svg xmlns=\"http://www.w3.org/2000/svg\" height=\"24px\"viewBox=\"0 0 24 24\"\n",
              "       width=\"24px\">\n",
              "    <path d=\"M0 0h24v24H0V0z\" fill=\"none\"/>\n",
              "    <path d=\"M18.56 5.44l.94 2.06.94-2.06 2.06-.94-2.06-.94-.94-2.06-.94 2.06-2.06.94zm-11 1L8.5 8.5l.94-2.06 2.06-.94-2.06-.94L8.5 2.5l-.94 2.06-2.06.94zm10 10l.94 2.06.94-2.06 2.06-.94-2.06-.94-.94-2.06-.94 2.06-2.06.94z\"/><path d=\"M17.41 7.96l-1.37-1.37c-.4-.4-.92-.59-1.43-.59-.52 0-1.04.2-1.43.59L10.3 9.45l-7.72 7.72c-.78.78-.78 2.05 0 2.83L4 21.41c.39.39.9.59 1.41.59.51 0 1.02-.2 1.41-.59l7.78-7.78 2.81-2.81c.8-.78.8-2.07 0-2.86zM5.41 20L4 18.59l7.72-7.72 1.47 1.35L5.41 20z\"/>\n",
              "  </svg>\n",
              "      </button>\n",
              "      \n",
              "  <style>\n",
              "    .colab-df-container {\n",
              "      display:flex;\n",
              "      flex-wrap:wrap;\n",
              "      gap: 12px;\n",
              "    }\n",
              "\n",
              "    .colab-df-convert {\n",
              "      background-color: #E8F0FE;\n",
              "      border: none;\n",
              "      border-radius: 50%;\n",
              "      cursor: pointer;\n",
              "      display: none;\n",
              "      fill: #1967D2;\n",
              "      height: 32px;\n",
              "      padding: 0 0 0 0;\n",
              "      width: 32px;\n",
              "    }\n",
              "\n",
              "    .colab-df-convert:hover {\n",
              "      background-color: #E2EBFA;\n",
              "      box-shadow: 0px 1px 2px rgba(60, 64, 67, 0.3), 0px 1px 3px 1px rgba(60, 64, 67, 0.15);\n",
              "      fill: #174EA6;\n",
              "    }\n",
              "\n",
              "    [theme=dark] .colab-df-convert {\n",
              "      background-color: #3B4455;\n",
              "      fill: #D2E3FC;\n",
              "    }\n",
              "\n",
              "    [theme=dark] .colab-df-convert:hover {\n",
              "      background-color: #434B5C;\n",
              "      box-shadow: 0px 1px 3px 1px rgba(0, 0, 0, 0.15);\n",
              "      filter: drop-shadow(0px 1px 2px rgba(0, 0, 0, 0.3));\n",
              "      fill: #FFFFFF;\n",
              "    }\n",
              "  </style>\n",
              "\n",
              "      <script>\n",
              "        const buttonEl =\n",
              "          document.querySelector('#df-4549e391-52d0-4639-84a0-b15b3c32fc19 button.colab-df-convert');\n",
              "        buttonEl.style.display =\n",
              "          google.colab.kernel.accessAllowed ? 'block' : 'none';\n",
              "\n",
              "        async function convertToInteractive(key) {\n",
              "          const element = document.querySelector('#df-4549e391-52d0-4639-84a0-b15b3c32fc19');\n",
              "          const dataTable =\n",
              "            await google.colab.kernel.invokeFunction('convertToInteractive',\n",
              "                                                     [key], {});\n",
              "          if (!dataTable) return;\n",
              "\n",
              "          const docLinkHtml = 'Like what you see? Visit the ' +\n",
              "            '<a target=\"_blank\" href=https://colab.research.google.com/notebooks/data_table.ipynb>data table notebook</a>'\n",
              "            + ' to learn more about interactive tables.';\n",
              "          element.innerHTML = '';\n",
              "          dataTable['output_type'] = 'display_data';\n",
              "          await google.colab.output.renderOutput(dataTable, element);\n",
              "          const docLink = document.createElement('div');\n",
              "          docLink.innerHTML = docLinkHtml;\n",
              "          element.appendChild(docLink);\n",
              "        }\n",
              "      </script>\n",
              "    </div>\n",
              "  </div>\n",
              "  "
            ]
          },
          "metadata": {},
          "execution_count": 72
        }
      ]
    },
    {
      "cell_type": "code",
      "source": [
        "y"
      ],
      "metadata": {
        "colab": {
          "base_uri": "https://localhost:8080/"
        },
        "id": "PD0SX2K80WJL",
        "outputId": "d705c73e-d119-4da3-ed80-76e1acd807bc"
      },
      "execution_count": null,
      "outputs": [
        {
          "output_type": "execute_result",
          "data": {
            "text/plain": [
              "0        12691.0\n",
              "1         8256.0\n",
              "2         3418.0\n",
              "3         3313.0\n",
              "4         4716.0\n",
              "          ...   \n",
              "10122     4003.0\n",
              "10123     4277.0\n",
              "10124     5409.0\n",
              "10125     5281.0\n",
              "10126    10388.0\n",
              "Name: Credit_Limit, Length: 10127, dtype: float64"
            ]
          },
          "metadata": {},
          "execution_count": 73
        }
      ]
    },
    {
      "cell_type": "markdown",
      "source": [
        "Método de feature selection para reducir la dimensionalidad del dataset"
      ],
      "metadata": {
        "id": "Bc0DCF1n5BNi"
      }
    },
    {
      "cell_type": "markdown",
      "source": [
        "Se utilizarán para comparar su rendimiento el Forward selection "
      ],
      "metadata": {
        "id": "7-cpTYNxM5k-"
      }
    },
    {
      "cell_type": "code",
      "source": [
        "import statsmodels.api as sm\n",
        "def forward_selection(data, target, significance_level=0.01):\n",
        "    initial_features = data.columns.tolist()\n",
        "    best_features = []\n",
        "    while (len(initial_features)>0):\n",
        "        remaining_features = list(set(initial_features)-set(best_features))\n",
        "        new_pval = pd.Series(index=remaining_features)\n",
        "        for new_column in remaining_features:\n",
        "            model = sm.OLS(target, sm.add_constant(data[best_features+[new_column]])).fit()\n",
        "            new_pval[new_column] = model.pvalues[new_column]\n",
        "        min_p_value = new_pval.min()\n",
        "        if(min_p_value<significance_level):\n",
        "            best_features.append(new_pval.idxmin())\n",
        "        else:\n",
        "            break\n",
        "    return best_features"
      ],
      "metadata": {
        "id": "5X0hIuKqOD8r"
      },
      "execution_count": null,
      "outputs": []
    },
    {
      "cell_type": "code",
      "source": [
        "df.isnull().sum()\n",
        "df = df.dropna() "
      ],
      "metadata": {
        "id": "n1N4CV5fnGTz"
      },
      "execution_count": null,
      "outputs": []
    },
    {
      "cell_type": "code",
      "source": [
        "forward_selection(X,y)"
      ],
      "metadata": {
        "id": "6UnsGbXzirWn",
        "colab": {
          "base_uri": "https://localhost:8080/"
        },
        "outputId": "ffc3c782-c374-4aa0-e024-f2b98b68f204"
      },
      "execution_count": null,
      "outputs": [
        {
          "output_type": "stream",
          "name": "stderr",
          "text": [
            "<ipython-input-74-a6ce63c591b0>:7: FutureWarning: The default dtype for empty Series will be 'object' instead of 'float64' in a future version. Specify a dtype explicitly to silence this warning.\n",
            "  new_pval = pd.Series(index=remaining_features)\n",
            "<ipython-input-74-a6ce63c591b0>:7: FutureWarning: The default dtype for empty Series will be 'object' instead of 'float64' in a future version. Specify a dtype explicitly to silence this warning.\n",
            "  new_pval = pd.Series(index=remaining_features)\n",
            "<ipython-input-74-a6ce63c591b0>:7: FutureWarning: The default dtype for empty Series will be 'object' instead of 'float64' in a future version. Specify a dtype explicitly to silence this warning.\n",
            "  new_pval = pd.Series(index=remaining_features)\n",
            "<ipython-input-74-a6ce63c591b0>:7: FutureWarning: The default dtype for empty Series will be 'object' instead of 'float64' in a future version. Specify a dtype explicitly to silence this warning.\n",
            "  new_pval = pd.Series(index=remaining_features)\n",
            "<ipython-input-74-a6ce63c591b0>:7: FutureWarning: The default dtype for empty Series will be 'object' instead of 'float64' in a future version. Specify a dtype explicitly to silence this warning.\n",
            "  new_pval = pd.Series(index=remaining_features)\n",
            "<ipython-input-74-a6ce63c591b0>:7: FutureWarning: The default dtype for empty Series will be 'object' instead of 'float64' in a future version. Specify a dtype explicitly to silence this warning.\n",
            "  new_pval = pd.Series(index=remaining_features)\n",
            "<ipython-input-74-a6ce63c591b0>:7: FutureWarning: The default dtype for empty Series will be 'object' instead of 'float64' in a future version. Specify a dtype explicitly to silence this warning.\n",
            "  new_pval = pd.Series(index=remaining_features)\n",
            "<ipython-input-74-a6ce63c591b0>:7: FutureWarning: The default dtype for empty Series will be 'object' instead of 'float64' in a future version. Specify a dtype explicitly to silence this warning.\n",
            "  new_pval = pd.Series(index=remaining_features)\n",
            "<ipython-input-74-a6ce63c591b0>:7: FutureWarning: The default dtype for empty Series will be 'object' instead of 'float64' in a future version. Specify a dtype explicitly to silence this warning.\n",
            "  new_pval = pd.Series(index=remaining_features)\n",
            "<ipython-input-74-a6ce63c591b0>:7: FutureWarning: The default dtype for empty Series will be 'object' instead of 'float64' in a future version. Specify a dtype explicitly to silence this warning.\n",
            "  new_pval = pd.Series(index=remaining_features)\n",
            "<ipython-input-74-a6ce63c591b0>:7: FutureWarning: The default dtype for empty Series will be 'object' instead of 'float64' in a future version. Specify a dtype explicitly to silence this warning.\n",
            "  new_pval = pd.Series(index=remaining_features)\n",
            "<ipython-input-74-a6ce63c591b0>:7: FutureWarning: The default dtype for empty Series will be 'object' instead of 'float64' in a future version. Specify a dtype explicitly to silence this warning.\n",
            "  new_pval = pd.Series(index=remaining_features)\n",
            "<ipython-input-74-a6ce63c591b0>:7: FutureWarning: The default dtype for empty Series will be 'object' instead of 'float64' in a future version. Specify a dtype explicitly to silence this warning.\n",
            "  new_pval = pd.Series(index=remaining_features)\n",
            "<ipython-input-74-a6ce63c591b0>:7: FutureWarning: The default dtype for empty Series will be 'object' instead of 'float64' in a future version. Specify a dtype explicitly to silence this warning.\n",
            "  new_pval = pd.Series(index=remaining_features)\n",
            "<ipython-input-74-a6ce63c591b0>:7: FutureWarning: The default dtype for empty Series will be 'object' instead of 'float64' in a future version. Specify a dtype explicitly to silence this warning.\n",
            "  new_pval = pd.Series(index=remaining_features)\n",
            "<ipython-input-74-a6ce63c591b0>:7: FutureWarning: The default dtype for empty Series will be 'object' instead of 'float64' in a future version. Specify a dtype explicitly to silence this warning.\n",
            "  new_pval = pd.Series(index=remaining_features)\n",
            "<ipython-input-74-a6ce63c591b0>:7: FutureWarning: The default dtype for empty Series will be 'object' instead of 'float64' in a future version. Specify a dtype explicitly to silence this warning.\n",
            "  new_pval = pd.Series(index=remaining_features)\n",
            "<ipython-input-74-a6ce63c591b0>:7: FutureWarning: The default dtype for empty Series will be 'object' instead of 'float64' in a future version. Specify a dtype explicitly to silence this warning.\n",
            "  new_pval = pd.Series(index=remaining_features)\n",
            "<ipython-input-74-a6ce63c591b0>:7: FutureWarning: The default dtype for empty Series will be 'object' instead of 'float64' in a future version. Specify a dtype explicitly to silence this warning.\n",
            "  new_pval = pd.Series(index=remaining_features)\n",
            "<ipython-input-74-a6ce63c591b0>:7: FutureWarning: The default dtype for empty Series will be 'object' instead of 'float64' in a future version. Specify a dtype explicitly to silence this warning.\n",
            "  new_pval = pd.Series(index=remaining_features)\n",
            "<ipython-input-74-a6ce63c591b0>:7: FutureWarning: The default dtype for empty Series will be 'object' instead of 'float64' in a future version. Specify a dtype explicitly to silence this warning.\n",
            "  new_pval = pd.Series(index=remaining_features)\n",
            "<ipython-input-74-a6ce63c591b0>:7: FutureWarning: The default dtype for empty Series will be 'object' instead of 'float64' in a future version. Specify a dtype explicitly to silence this warning.\n",
            "  new_pval = pd.Series(index=remaining_features)\n",
            "<ipython-input-74-a6ce63c591b0>:7: FutureWarning: The default dtype for empty Series will be 'object' instead of 'float64' in a future version. Specify a dtype explicitly to silence this warning.\n",
            "  new_pval = pd.Series(index=remaining_features)\n",
            "<ipython-input-74-a6ce63c591b0>:7: FutureWarning: The default dtype for empty Series will be 'object' instead of 'float64' in a future version. Specify a dtype explicitly to silence this warning.\n",
            "  new_pval = pd.Series(index=remaining_features)\n",
            "<ipython-input-74-a6ce63c591b0>:7: FutureWarning: The default dtype for empty Series will be 'object' instead of 'float64' in a future version. Specify a dtype explicitly to silence this warning.\n",
            "  new_pval = pd.Series(index=remaining_features)\n",
            "<ipython-input-74-a6ce63c591b0>:7: FutureWarning: The default dtype for empty Series will be 'object' instead of 'float64' in a future version. Specify a dtype explicitly to silence this warning.\n",
            "  new_pval = pd.Series(index=remaining_features)\n",
            "<ipython-input-74-a6ce63c591b0>:7: FutureWarning: The default dtype for empty Series will be 'object' instead of 'float64' in a future version. Specify a dtype explicitly to silence this warning.\n",
            "  new_pval = pd.Series(index=remaining_features)\n",
            "<ipython-input-74-a6ce63c591b0>:7: FutureWarning: The default dtype for empty Series will be 'object' instead of 'float64' in a future version. Specify a dtype explicitly to silence this warning.\n",
            "  new_pval = pd.Series(index=remaining_features)\n"
          ]
        },
        {
          "output_type": "execute_result",
          "data": {
            "text/plain": [
              "['Gender_M',\n",
              " 'Card_Category_Blue',\n",
              " 'Avg_Utilization_Ratio',\n",
              " 'Gender_F',\n",
              " 'Total_Revolving_Bal',\n",
              " 'Avg_Open_To_Buy',\n",
              " 'Card_Category_Platinum',\n",
              " 'Total_Relationship_Count',\n",
              " 'Total_Trans_Amt',\n",
              " 'Total_Trans_Ct',\n",
              " 'Naive_Bayes_Classifier_Attrition_Flag_Card_Category_Contacts_Count_12_mon_Dependent_count_Education_Level_Months_Inactive_12_mon_2',\n",
              " 'Card_Category_Gold',\n",
              " 'Income_Category_$80K - $120K',\n",
              " 'Contacts_Count_12_mon',\n",
              " 'Income_Category_$40K - $60K',\n",
              " 'Months_Inactive_12_mon',\n",
              " 'Total_Amt_Chng_Q4_Q1',\n",
              " 'Income_Category_$120K +',\n",
              " 'Card_Category_Silver',\n",
              " 'Total_Ct_Chng_Q4_Q1',\n",
              " 'Education_Level_Graduate',\n",
              " 'Education_Level_Unknown',\n",
              " 'Months_on_book',\n",
              " 'Marital_Status_Unknown',\n",
              " 'Marital_Status_Married',\n",
              " 'Dependent_count',\n",
              " 'CLIENTNUM']"
            ]
          },
          "metadata": {},
          "execution_count": 76
        }
      ]
    },
    {
      "cell_type": "markdown",
      "source": [
        "Una vez obtenidas las variables serleccionadas se utilizará un algoritmo de regresión para entrenar con los datos obtenidos."
      ],
      "metadata": {
        "id": "MWCBCO5xi8z7"
      }
    },
    {
      "cell_type": "markdown",
      "source": [
        "Métrica algoritmo de regresión"
      ],
      "metadata": {
        "id": "aa5Zttm04nj3"
      }
    },
    {
      "cell_type": "code",
      "source": [
        "import matplotlib.pyplot as plt\n",
        "import numpy as np\n",
        "from sklearn import datasets, linear_model\n",
        "from sklearn.metrics import mean_squared_error, r2_score\n",
        "df"
      ],
      "metadata": {
        "colab": {
          "base_uri": "https://localhost:8080/",
          "height": 505
        },
        "id": "KYmgAJ5b4t31",
        "outputId": "f3c8ed73-10ab-4549-8b76-e3d13433af6b"
      },
      "execution_count": null,
      "outputs": [
        {
          "output_type": "execute_result",
          "data": {
            "text/plain": [
              "       CLIENTNUM  Customer_Age  Dependent_count  Months_on_book  \\\n",
              "0      768805383            45                3              39   \n",
              "1      818770008            49                5              44   \n",
              "2      713982108            51                3              36   \n",
              "3      769911858            40                4              34   \n",
              "4      709106358            40                3              21   \n",
              "...          ...           ...              ...             ...   \n",
              "10122  772366833            50                2              40   \n",
              "10123  710638233            41                2              25   \n",
              "10124  716506083            44                1              36   \n",
              "10125  717406983            30                2              36   \n",
              "10126  714337233            43                2              25   \n",
              "\n",
              "       Total_Relationship_Count  Months_Inactive_12_mon  \\\n",
              "0                             5                       1   \n",
              "1                             6                       1   \n",
              "2                             4                       1   \n",
              "3                             3                       4   \n",
              "4                             5                       1   \n",
              "...                         ...                     ...   \n",
              "10122                         3                       2   \n",
              "10123                         4                       2   \n",
              "10124                         5                       3   \n",
              "10125                         4                       3   \n",
              "10126                         6                       2   \n",
              "\n",
              "       Contacts_Count_12_mon  Credit_Limit  Total_Revolving_Bal  \\\n",
              "0                          3       12691.0                  777   \n",
              "1                          2        8256.0                  864   \n",
              "2                          0        3418.0                    0   \n",
              "3                          1        3313.0                 2517   \n",
              "4                          0        4716.0                    0   \n",
              "...                      ...           ...                  ...   \n",
              "10122                      3        4003.0                 1851   \n",
              "10123                      3        4277.0                 2186   \n",
              "10124                      4        5409.0                    0   \n",
              "10125                      3        5281.0                    0   \n",
              "10126                      4       10388.0                 1961   \n",
              "\n",
              "       Avg_Open_To_Buy  ...  Education_Level_High School  \\\n",
              "0              11914.0  ...                            1   \n",
              "1               7392.0  ...                            0   \n",
              "2               3418.0  ...                            0   \n",
              "3                796.0  ...                            1   \n",
              "4               4716.0  ...                            0   \n",
              "...                ...  ...                          ...   \n",
              "10122           2152.0  ...                            0   \n",
              "10123           2091.0  ...                            0   \n",
              "10124           5409.0  ...                            1   \n",
              "10125           5281.0  ...                            0   \n",
              "10126           8427.0  ...                            0   \n",
              "\n",
              "       Education_Level_Post-Graduate  Education_Level_Uneducated  \\\n",
              "0                                  0                           0   \n",
              "1                                  0                           0   \n",
              "2                                  0                           0   \n",
              "3                                  0                           0   \n",
              "4                                  0                           1   \n",
              "...                              ...                         ...   \n",
              "10122                              0                           0   \n",
              "10123                              0                           0   \n",
              "10124                              0                           0   \n",
              "10125                              0                           0   \n",
              "10126                              0                           0   \n",
              "\n",
              "       Education_Level_Unknown  Attrition_Flag_Attrited Customer  \\\n",
              "0                            0                                 0   \n",
              "1                            0                                 0   \n",
              "2                            0                                 0   \n",
              "3                            0                                 0   \n",
              "4                            0                                 0   \n",
              "...                        ...                               ...   \n",
              "10122                        0                                 0   \n",
              "10123                        1                                 1   \n",
              "10124                        0                                 1   \n",
              "10125                        0                                 1   \n",
              "10126                        0                                 1   \n",
              "\n",
              "       Attrition_Flag_Existing Customer  Marital_Status_Divorced  \\\n",
              "0                                     1                        0   \n",
              "1                                     1                        0   \n",
              "2                                     1                        0   \n",
              "3                                     1                        0   \n",
              "4                                     1                        0   \n",
              "...                                 ...                      ...   \n",
              "10122                                 1                        0   \n",
              "10123                                 0                        1   \n",
              "10124                                 0                        0   \n",
              "10125                                 0                        0   \n",
              "10126                                 0                        0   \n",
              "\n",
              "       Marital_Status_Married  Marital_Status_Single  Marital_Status_Unknown  \n",
              "0                           1                      0                       0  \n",
              "1                           0                      1                       0  \n",
              "2                           1                      0                       0  \n",
              "3                           0                      0                       1  \n",
              "4                           1                      0                       0  \n",
              "...                       ...                    ...                     ...  \n",
              "10122                       0                      1                       0  \n",
              "10123                       0                      0                       0  \n",
              "10124                       1                      0                       0  \n",
              "10125                       0                      0                       1  \n",
              "10126                       1                      0                       0  \n",
              "\n",
              "[10127 rows x 42 columns]"
            ],
            "text/html": [
              "\n",
              "  <div id=\"df-c828d0fc-76dc-49fa-9023-8b71aa322b21\">\n",
              "    <div class=\"colab-df-container\">\n",
              "      <div>\n",
              "<style scoped>\n",
              "    .dataframe tbody tr th:only-of-type {\n",
              "        vertical-align: middle;\n",
              "    }\n",
              "\n",
              "    .dataframe tbody tr th {\n",
              "        vertical-align: top;\n",
              "    }\n",
              "\n",
              "    .dataframe thead th {\n",
              "        text-align: right;\n",
              "    }\n",
              "</style>\n",
              "<table border=\"1\" class=\"dataframe\">\n",
              "  <thead>\n",
              "    <tr style=\"text-align: right;\">\n",
              "      <th></th>\n",
              "      <th>CLIENTNUM</th>\n",
              "      <th>Customer_Age</th>\n",
              "      <th>Dependent_count</th>\n",
              "      <th>Months_on_book</th>\n",
              "      <th>Total_Relationship_Count</th>\n",
              "      <th>Months_Inactive_12_mon</th>\n",
              "      <th>Contacts_Count_12_mon</th>\n",
              "      <th>Credit_Limit</th>\n",
              "      <th>Total_Revolving_Bal</th>\n",
              "      <th>Avg_Open_To_Buy</th>\n",
              "      <th>...</th>\n",
              "      <th>Education_Level_High School</th>\n",
              "      <th>Education_Level_Post-Graduate</th>\n",
              "      <th>Education_Level_Uneducated</th>\n",
              "      <th>Education_Level_Unknown</th>\n",
              "      <th>Attrition_Flag_Attrited Customer</th>\n",
              "      <th>Attrition_Flag_Existing Customer</th>\n",
              "      <th>Marital_Status_Divorced</th>\n",
              "      <th>Marital_Status_Married</th>\n",
              "      <th>Marital_Status_Single</th>\n",
              "      <th>Marital_Status_Unknown</th>\n",
              "    </tr>\n",
              "  </thead>\n",
              "  <tbody>\n",
              "    <tr>\n",
              "      <th>0</th>\n",
              "      <td>768805383</td>\n",
              "      <td>45</td>\n",
              "      <td>3</td>\n",
              "      <td>39</td>\n",
              "      <td>5</td>\n",
              "      <td>1</td>\n",
              "      <td>3</td>\n",
              "      <td>12691.0</td>\n",
              "      <td>777</td>\n",
              "      <td>11914.0</td>\n",
              "      <td>...</td>\n",
              "      <td>1</td>\n",
              "      <td>0</td>\n",
              "      <td>0</td>\n",
              "      <td>0</td>\n",
              "      <td>0</td>\n",
              "      <td>1</td>\n",
              "      <td>0</td>\n",
              "      <td>1</td>\n",
              "      <td>0</td>\n",
              "      <td>0</td>\n",
              "    </tr>\n",
              "    <tr>\n",
              "      <th>1</th>\n",
              "      <td>818770008</td>\n",
              "      <td>49</td>\n",
              "      <td>5</td>\n",
              "      <td>44</td>\n",
              "      <td>6</td>\n",
              "      <td>1</td>\n",
              "      <td>2</td>\n",
              "      <td>8256.0</td>\n",
              "      <td>864</td>\n",
              "      <td>7392.0</td>\n",
              "      <td>...</td>\n",
              "      <td>0</td>\n",
              "      <td>0</td>\n",
              "      <td>0</td>\n",
              "      <td>0</td>\n",
              "      <td>0</td>\n",
              "      <td>1</td>\n",
              "      <td>0</td>\n",
              "      <td>0</td>\n",
              "      <td>1</td>\n",
              "      <td>0</td>\n",
              "    </tr>\n",
              "    <tr>\n",
              "      <th>2</th>\n",
              "      <td>713982108</td>\n",
              "      <td>51</td>\n",
              "      <td>3</td>\n",
              "      <td>36</td>\n",
              "      <td>4</td>\n",
              "      <td>1</td>\n",
              "      <td>0</td>\n",
              "      <td>3418.0</td>\n",
              "      <td>0</td>\n",
              "      <td>3418.0</td>\n",
              "      <td>...</td>\n",
              "      <td>0</td>\n",
              "      <td>0</td>\n",
              "      <td>0</td>\n",
              "      <td>0</td>\n",
              "      <td>0</td>\n",
              "      <td>1</td>\n",
              "      <td>0</td>\n",
              "      <td>1</td>\n",
              "      <td>0</td>\n",
              "      <td>0</td>\n",
              "    </tr>\n",
              "    <tr>\n",
              "      <th>3</th>\n",
              "      <td>769911858</td>\n",
              "      <td>40</td>\n",
              "      <td>4</td>\n",
              "      <td>34</td>\n",
              "      <td>3</td>\n",
              "      <td>4</td>\n",
              "      <td>1</td>\n",
              "      <td>3313.0</td>\n",
              "      <td>2517</td>\n",
              "      <td>796.0</td>\n",
              "      <td>...</td>\n",
              "      <td>1</td>\n",
              "      <td>0</td>\n",
              "      <td>0</td>\n",
              "      <td>0</td>\n",
              "      <td>0</td>\n",
              "      <td>1</td>\n",
              "      <td>0</td>\n",
              "      <td>0</td>\n",
              "      <td>0</td>\n",
              "      <td>1</td>\n",
              "    </tr>\n",
              "    <tr>\n",
              "      <th>4</th>\n",
              "      <td>709106358</td>\n",
              "      <td>40</td>\n",
              "      <td>3</td>\n",
              "      <td>21</td>\n",
              "      <td>5</td>\n",
              "      <td>1</td>\n",
              "      <td>0</td>\n",
              "      <td>4716.0</td>\n",
              "      <td>0</td>\n",
              "      <td>4716.0</td>\n",
              "      <td>...</td>\n",
              "      <td>0</td>\n",
              "      <td>0</td>\n",
              "      <td>1</td>\n",
              "      <td>0</td>\n",
              "      <td>0</td>\n",
              "      <td>1</td>\n",
              "      <td>0</td>\n",
              "      <td>1</td>\n",
              "      <td>0</td>\n",
              "      <td>0</td>\n",
              "    </tr>\n",
              "    <tr>\n",
              "      <th>...</th>\n",
              "      <td>...</td>\n",
              "      <td>...</td>\n",
              "      <td>...</td>\n",
              "      <td>...</td>\n",
              "      <td>...</td>\n",
              "      <td>...</td>\n",
              "      <td>...</td>\n",
              "      <td>...</td>\n",
              "      <td>...</td>\n",
              "      <td>...</td>\n",
              "      <td>...</td>\n",
              "      <td>...</td>\n",
              "      <td>...</td>\n",
              "      <td>...</td>\n",
              "      <td>...</td>\n",
              "      <td>...</td>\n",
              "      <td>...</td>\n",
              "      <td>...</td>\n",
              "      <td>...</td>\n",
              "      <td>...</td>\n",
              "      <td>...</td>\n",
              "    </tr>\n",
              "    <tr>\n",
              "      <th>10122</th>\n",
              "      <td>772366833</td>\n",
              "      <td>50</td>\n",
              "      <td>2</td>\n",
              "      <td>40</td>\n",
              "      <td>3</td>\n",
              "      <td>2</td>\n",
              "      <td>3</td>\n",
              "      <td>4003.0</td>\n",
              "      <td>1851</td>\n",
              "      <td>2152.0</td>\n",
              "      <td>...</td>\n",
              "      <td>0</td>\n",
              "      <td>0</td>\n",
              "      <td>0</td>\n",
              "      <td>0</td>\n",
              "      <td>0</td>\n",
              "      <td>1</td>\n",
              "      <td>0</td>\n",
              "      <td>0</td>\n",
              "      <td>1</td>\n",
              "      <td>0</td>\n",
              "    </tr>\n",
              "    <tr>\n",
              "      <th>10123</th>\n",
              "      <td>710638233</td>\n",
              "      <td>41</td>\n",
              "      <td>2</td>\n",
              "      <td>25</td>\n",
              "      <td>4</td>\n",
              "      <td>2</td>\n",
              "      <td>3</td>\n",
              "      <td>4277.0</td>\n",
              "      <td>2186</td>\n",
              "      <td>2091.0</td>\n",
              "      <td>...</td>\n",
              "      <td>0</td>\n",
              "      <td>0</td>\n",
              "      <td>0</td>\n",
              "      <td>1</td>\n",
              "      <td>1</td>\n",
              "      <td>0</td>\n",
              "      <td>1</td>\n",
              "      <td>0</td>\n",
              "      <td>0</td>\n",
              "      <td>0</td>\n",
              "    </tr>\n",
              "    <tr>\n",
              "      <th>10124</th>\n",
              "      <td>716506083</td>\n",
              "      <td>44</td>\n",
              "      <td>1</td>\n",
              "      <td>36</td>\n",
              "      <td>5</td>\n",
              "      <td>3</td>\n",
              "      <td>4</td>\n",
              "      <td>5409.0</td>\n",
              "      <td>0</td>\n",
              "      <td>5409.0</td>\n",
              "      <td>...</td>\n",
              "      <td>1</td>\n",
              "      <td>0</td>\n",
              "      <td>0</td>\n",
              "      <td>0</td>\n",
              "      <td>1</td>\n",
              "      <td>0</td>\n",
              "      <td>0</td>\n",
              "      <td>1</td>\n",
              "      <td>0</td>\n",
              "      <td>0</td>\n",
              "    </tr>\n",
              "    <tr>\n",
              "      <th>10125</th>\n",
              "      <td>717406983</td>\n",
              "      <td>30</td>\n",
              "      <td>2</td>\n",
              "      <td>36</td>\n",
              "      <td>4</td>\n",
              "      <td>3</td>\n",
              "      <td>3</td>\n",
              "      <td>5281.0</td>\n",
              "      <td>0</td>\n",
              "      <td>5281.0</td>\n",
              "      <td>...</td>\n",
              "      <td>0</td>\n",
              "      <td>0</td>\n",
              "      <td>0</td>\n",
              "      <td>0</td>\n",
              "      <td>1</td>\n",
              "      <td>0</td>\n",
              "      <td>0</td>\n",
              "      <td>0</td>\n",
              "      <td>0</td>\n",
              "      <td>1</td>\n",
              "    </tr>\n",
              "    <tr>\n",
              "      <th>10126</th>\n",
              "      <td>714337233</td>\n",
              "      <td>43</td>\n",
              "      <td>2</td>\n",
              "      <td>25</td>\n",
              "      <td>6</td>\n",
              "      <td>2</td>\n",
              "      <td>4</td>\n",
              "      <td>10388.0</td>\n",
              "      <td>1961</td>\n",
              "      <td>8427.0</td>\n",
              "      <td>...</td>\n",
              "      <td>0</td>\n",
              "      <td>0</td>\n",
              "      <td>0</td>\n",
              "      <td>0</td>\n",
              "      <td>1</td>\n",
              "      <td>0</td>\n",
              "      <td>0</td>\n",
              "      <td>1</td>\n",
              "      <td>0</td>\n",
              "      <td>0</td>\n",
              "    </tr>\n",
              "  </tbody>\n",
              "</table>\n",
              "<p>10127 rows × 42 columns</p>\n",
              "</div>\n",
              "      <button class=\"colab-df-convert\" onclick=\"convertToInteractive('df-c828d0fc-76dc-49fa-9023-8b71aa322b21')\"\n",
              "              title=\"Convert this dataframe to an interactive table.\"\n",
              "              style=\"display:none;\">\n",
              "        \n",
              "  <svg xmlns=\"http://www.w3.org/2000/svg\" height=\"24px\"viewBox=\"0 0 24 24\"\n",
              "       width=\"24px\">\n",
              "    <path d=\"M0 0h24v24H0V0z\" fill=\"none\"/>\n",
              "    <path d=\"M18.56 5.44l.94 2.06.94-2.06 2.06-.94-2.06-.94-.94-2.06-.94 2.06-2.06.94zm-11 1L8.5 8.5l.94-2.06 2.06-.94-2.06-.94L8.5 2.5l-.94 2.06-2.06.94zm10 10l.94 2.06.94-2.06 2.06-.94-2.06-.94-.94-2.06-.94 2.06-2.06.94z\"/><path d=\"M17.41 7.96l-1.37-1.37c-.4-.4-.92-.59-1.43-.59-.52 0-1.04.2-1.43.59L10.3 9.45l-7.72 7.72c-.78.78-.78 2.05 0 2.83L4 21.41c.39.39.9.59 1.41.59.51 0 1.02-.2 1.41-.59l7.78-7.78 2.81-2.81c.8-.78.8-2.07 0-2.86zM5.41 20L4 18.59l7.72-7.72 1.47 1.35L5.41 20z\"/>\n",
              "  </svg>\n",
              "      </button>\n",
              "      \n",
              "  <style>\n",
              "    .colab-df-container {\n",
              "      display:flex;\n",
              "      flex-wrap:wrap;\n",
              "      gap: 12px;\n",
              "    }\n",
              "\n",
              "    .colab-df-convert {\n",
              "      background-color: #E8F0FE;\n",
              "      border: none;\n",
              "      border-radius: 50%;\n",
              "      cursor: pointer;\n",
              "      display: none;\n",
              "      fill: #1967D2;\n",
              "      height: 32px;\n",
              "      padding: 0 0 0 0;\n",
              "      width: 32px;\n",
              "    }\n",
              "\n",
              "    .colab-df-convert:hover {\n",
              "      background-color: #E2EBFA;\n",
              "      box-shadow: 0px 1px 2px rgba(60, 64, 67, 0.3), 0px 1px 3px 1px rgba(60, 64, 67, 0.15);\n",
              "      fill: #174EA6;\n",
              "    }\n",
              "\n",
              "    [theme=dark] .colab-df-convert {\n",
              "      background-color: #3B4455;\n",
              "      fill: #D2E3FC;\n",
              "    }\n",
              "\n",
              "    [theme=dark] .colab-df-convert:hover {\n",
              "      background-color: #434B5C;\n",
              "      box-shadow: 0px 1px 3px 1px rgba(0, 0, 0, 0.15);\n",
              "      filter: drop-shadow(0px 1px 2px rgba(0, 0, 0, 0.3));\n",
              "      fill: #FFFFFF;\n",
              "    }\n",
              "  </style>\n",
              "\n",
              "      <script>\n",
              "        const buttonEl =\n",
              "          document.querySelector('#df-c828d0fc-76dc-49fa-9023-8b71aa322b21 button.colab-df-convert');\n",
              "        buttonEl.style.display =\n",
              "          google.colab.kernel.accessAllowed ? 'block' : 'none';\n",
              "\n",
              "        async function convertToInteractive(key) {\n",
              "          const element = document.querySelector('#df-c828d0fc-76dc-49fa-9023-8b71aa322b21');\n",
              "          const dataTable =\n",
              "            await google.colab.kernel.invokeFunction('convertToInteractive',\n",
              "                                                     [key], {});\n",
              "          if (!dataTable) return;\n",
              "\n",
              "          const docLinkHtml = 'Like what you see? Visit the ' +\n",
              "            '<a target=\"_blank\" href=https://colab.research.google.com/notebooks/data_table.ipynb>data table notebook</a>'\n",
              "            + ' to learn more about interactive tables.';\n",
              "          element.innerHTML = '';\n",
              "          dataTable['output_type'] = 'display_data';\n",
              "          await google.colab.output.renderOutput(dataTable, element);\n",
              "          const docLink = document.createElement('div');\n",
              "          docLink.innerHTML = docLinkHtml;\n",
              "          element.appendChild(docLink);\n",
              "        }\n",
              "      </script>\n",
              "    </div>\n",
              "  </div>\n",
              "  "
            ]
          },
          "metadata": {},
          "execution_count": 77
        }
      ]
    },
    {
      "cell_type": "markdown",
      "source": [
        "Se selecciona como métrica: Error absoluto Medio (MAE).\n",
        "\n",
        "Ventajas: \n",
        "\n",
        "\n",
        "\n",
        "1.   El MAE que obtiene está en la misma unidad que la variable de salida.\n",
        "2.   Es más robusto a los valores atípicos.\n",
        "\n",
        "\n",
        "\n"
      ],
      "metadata": {
        "id": "F6nZJG2wkz70"
      }
    },
    {
      "cell_type": "code",
      "source": [
        "from sklearn.model_selection import train_test_split\n",
        "X_train,X_test,y_train,y_test = train_test_split(X,y,test_size=0.2,random_state=2)\n",
        "from sklearn.linear_model import LinearRegression\n",
        "# crear el modelo\n",
        "lr = LinearRegression()\n",
        "# Ajustar el modelo con X_train y y_train\n",
        "lr.fit(X_train,y_train)\n",
        "# PRedecir con X_test\n",
        "y_pred = lr.predict(X_test)"
      ],
      "metadata": {
        "id": "kgd5g_AwkvlV"
      },
      "execution_count": null,
      "outputs": []
    },
    {
      "cell_type": "code",
      "source": [
        "from sklearn.metrics import mean_absolute_error\n",
        "print(\"MAE\",mean_absolute_error(y_test,y_pred))"
      ],
      "metadata": {
        "id": "9fmnMaGxkwyz",
        "colab": {
          "base_uri": "https://localhost:8080/"
        },
        "outputId": "29ccd05e-fe75-4383-c8a7-2edf4c1439a3"
      },
      "execution_count": null,
      "outputs": [
        {
          "output_type": "stream",
          "name": "stdout",
          "text": [
            "MAE 5.550229575046911e-12\n"
          ]
        }
      ]
    },
    {
      "cell_type": "markdown",
      "source": [
        "En resumen, el MAE es una medida de la precisión promedio de un modelo de regresión. Cuanto menor sea el MAE, mejor será la precisión del modelo en la predicción de los valores reales."
      ],
      "metadata": {
        "id": "2NVQ3Xbq_fak"
      }
    }
  ]
}