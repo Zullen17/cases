{
  "nbformat": 4,
  "nbformat_minor": 0,
  "metadata": {
    "colab": {
      "provenance": [],
      "authorship_tag": "ABX9TyMyH8JYxLO0rqqTK4LWBem/",
      "include_colab_link": true
    },
    "kernelspec": {
      "name": "python3",
      "display_name": "Python 3"
    },
    "language_info": {
      "name": "python"
    }
  },
  "cells": [
    {
      "cell_type": "markdown",
      "metadata": {
        "id": "view-in-github",
        "colab_type": "text"
      },
      "source": [
        "<a href=\"https://colab.research.google.com/github/Zullen17/cases/blob/main/Nasa_Nu%C3%B1ez.ipynb\" target=\"_parent\"><img src=\"https://colab.research.google.com/assets/colab-badge.svg\" alt=\"Open In Colab\"/></a>"
      ]
    },
    {
      "cell_type": "code",
      "execution_count": null,
      "metadata": {
        "colab": {
          "base_uri": "https://localhost:8080/"
        },
        "id": "aSWHwykWUAlZ",
        "outputId": "d5c78131-a6cc-4292-beda-17038375aa9d"
      },
      "outputs": [
        {
          "output_type": "stream",
          "name": "stdout",
          "text": [
            "Mounted at /content/gdrive\n"
          ]
        }
      ],
      "source": [
        "from google.colab import drive\n",
        "import os\n",
        "drive.mount('/content/gdrive')"
      ]
    },
    {
      "cell_type": "code",
      "source": [
        "import pandas as pd\n",
        "df = pd.read_csv('/content/gdrive/MyDrive/Python/cleaned_5250.csv')\n",
        "df.shape"
      ],
      "metadata": {
        "colab": {
          "base_uri": "https://localhost:8080/"
        },
        "id": "9r4mOgIEUV4q",
        "outputId": "95f3d4bf-37fd-4548-dc27-49f958d94aac"
      },
      "execution_count": null,
      "outputs": [
        {
          "output_type": "execute_result",
          "data": {
            "text/plain": [
              "(5250, 13)"
            ]
          },
          "metadata": {},
          "execution_count": 3
        }
      ]
    },
    {
      "cell_type": "markdown",
      "source": [
        "The NASA Exoplanet Archive is a database that contains information on all known exoplanets (planets outside our solar system) discovered by NASA's various space missions, ground-based observatories, and other sources. The dataset includes information such as the planet's name, mass, radius, distance from its host star, orbital period, and other physical characteristics. The dataset also includes information on the host star, such as its name, mass, and radius. The archive is updated regularly as new exoplanets are discovered, and it is a valuable resource for astronomers studying the properties and distribution of exoplanets in our galaxy."
      ],
      "metadata": {
        "id": "GfysjqEvWFPj"
      }
    },
    {
      "cell_type": "code",
      "source": [
        "df.head(10)"
      ],
      "metadata": {
        "colab": {
          "base_uri": "https://localhost:8080/",
          "height": 583
        },
        "id": "J1LJmVxpU9cI",
        "outputId": "09a778b3-8708-4b41-ee62-1f9a7c9add33"
      },
      "execution_count": null,
      "outputs": [
        {
          "output_type": "execute_result",
          "data": {
            "text/plain": [
              "                      name  distance  stellar_magnitude planet_type  \\\n",
              "0     11 Comae Berenices b     304.0            4.72307   Gas Giant   \n",
              "1       11 Ursae Minoris b     409.0            5.01300   Gas Giant   \n",
              "2          14 Andromedae b     246.0            5.23133   Gas Giant   \n",
              "3            14 Herculis b      58.0            6.61935   Gas Giant   \n",
              "4             16 Cygni B b      69.0            6.21500   Gas Giant   \n",
              "5             17 Scorpii b     408.0            5.22606   Gas Giant   \n",
              "6            18 Delphini b     249.0            5.51048   Gas Giant   \n",
              "7  1RXS J160929.1-210524 b     454.0           12.61800   Gas Giant   \n",
              "8              24 Bootis b     313.0            5.59000   Gas Giant   \n",
              "9           24 Sextantis b     235.0            6.45350   Gas Giant   \n",
              "\n",
              "   discovery_year  mass_multiplier mass_wrt  radius_multiplier radius_wrt  \\\n",
              "0            2007         19.40000  Jupiter              1.080    Jupiter   \n",
              "1            2009         14.74000  Jupiter              1.090    Jupiter   \n",
              "2            2008          4.80000  Jupiter              1.150    Jupiter   \n",
              "3            2002          8.13881  Jupiter              1.120    Jupiter   \n",
              "4            1996          1.78000  Jupiter              1.200    Jupiter   \n",
              "5            2020          4.32000  Jupiter              1.150    Jupiter   \n",
              "6            2008         10.30000  Jupiter              1.110    Jupiter   \n",
              "7            2008          8.00000  Jupiter              1.664    Jupiter   \n",
              "8            2018          0.91000  Jupiter              1.240    Jupiter   \n",
              "9            2010          1.99000  Jupiter              1.190    Jupiter   \n",
              "\n",
              "   orbital_radius  orbital_period  eccentricity detection_method  \n",
              "0        1.290000        0.892539          0.23  Radial Velocity  \n",
              "1        1.530000        1.400000          0.08  Radial Velocity  \n",
              "2        0.830000        0.508693          0.00  Radial Velocity  \n",
              "3        2.773069        4.800000          0.37  Radial Velocity  \n",
              "4        1.660000        2.200000          0.68  Radial Velocity  \n",
              "5        1.450000        1.600000          0.06  Radial Velocity  \n",
              "6        2.600000        2.700000          0.08  Radial Velocity  \n",
              "7      330.000000     6505.900000          0.00   Direct Imaging  \n",
              "8        0.190000        0.083231          0.04  Radial Velocity  \n",
              "9        1.333000        1.239699          0.09  Radial Velocity  "
            ],
            "text/html": [
              "\n",
              "  <div id=\"df-02ad26b7-701d-40d8-8bf3-a72d6f17f9e0\">\n",
              "    <div class=\"colab-df-container\">\n",
              "      <div>\n",
              "<style scoped>\n",
              "    .dataframe tbody tr th:only-of-type {\n",
              "        vertical-align: middle;\n",
              "    }\n",
              "\n",
              "    .dataframe tbody tr th {\n",
              "        vertical-align: top;\n",
              "    }\n",
              "\n",
              "    .dataframe thead th {\n",
              "        text-align: right;\n",
              "    }\n",
              "</style>\n",
              "<table border=\"1\" class=\"dataframe\">\n",
              "  <thead>\n",
              "    <tr style=\"text-align: right;\">\n",
              "      <th></th>\n",
              "      <th>name</th>\n",
              "      <th>distance</th>\n",
              "      <th>stellar_magnitude</th>\n",
              "      <th>planet_type</th>\n",
              "      <th>discovery_year</th>\n",
              "      <th>mass_multiplier</th>\n",
              "      <th>mass_wrt</th>\n",
              "      <th>radius_multiplier</th>\n",
              "      <th>radius_wrt</th>\n",
              "      <th>orbital_radius</th>\n",
              "      <th>orbital_period</th>\n",
              "      <th>eccentricity</th>\n",
              "      <th>detection_method</th>\n",
              "    </tr>\n",
              "  </thead>\n",
              "  <tbody>\n",
              "    <tr>\n",
              "      <th>0</th>\n",
              "      <td>11 Comae Berenices b</td>\n",
              "      <td>304.0</td>\n",
              "      <td>4.72307</td>\n",
              "      <td>Gas Giant</td>\n",
              "      <td>2007</td>\n",
              "      <td>19.40000</td>\n",
              "      <td>Jupiter</td>\n",
              "      <td>1.080</td>\n",
              "      <td>Jupiter</td>\n",
              "      <td>1.290000</td>\n",
              "      <td>0.892539</td>\n",
              "      <td>0.23</td>\n",
              "      <td>Radial Velocity</td>\n",
              "    </tr>\n",
              "    <tr>\n",
              "      <th>1</th>\n",
              "      <td>11 Ursae Minoris b</td>\n",
              "      <td>409.0</td>\n",
              "      <td>5.01300</td>\n",
              "      <td>Gas Giant</td>\n",
              "      <td>2009</td>\n",
              "      <td>14.74000</td>\n",
              "      <td>Jupiter</td>\n",
              "      <td>1.090</td>\n",
              "      <td>Jupiter</td>\n",
              "      <td>1.530000</td>\n",
              "      <td>1.400000</td>\n",
              "      <td>0.08</td>\n",
              "      <td>Radial Velocity</td>\n",
              "    </tr>\n",
              "    <tr>\n",
              "      <th>2</th>\n",
              "      <td>14 Andromedae b</td>\n",
              "      <td>246.0</td>\n",
              "      <td>5.23133</td>\n",
              "      <td>Gas Giant</td>\n",
              "      <td>2008</td>\n",
              "      <td>4.80000</td>\n",
              "      <td>Jupiter</td>\n",
              "      <td>1.150</td>\n",
              "      <td>Jupiter</td>\n",
              "      <td>0.830000</td>\n",
              "      <td>0.508693</td>\n",
              "      <td>0.00</td>\n",
              "      <td>Radial Velocity</td>\n",
              "    </tr>\n",
              "    <tr>\n",
              "      <th>3</th>\n",
              "      <td>14 Herculis b</td>\n",
              "      <td>58.0</td>\n",
              "      <td>6.61935</td>\n",
              "      <td>Gas Giant</td>\n",
              "      <td>2002</td>\n",
              "      <td>8.13881</td>\n",
              "      <td>Jupiter</td>\n",
              "      <td>1.120</td>\n",
              "      <td>Jupiter</td>\n",
              "      <td>2.773069</td>\n",
              "      <td>4.800000</td>\n",
              "      <td>0.37</td>\n",
              "      <td>Radial Velocity</td>\n",
              "    </tr>\n",
              "    <tr>\n",
              "      <th>4</th>\n",
              "      <td>16 Cygni B b</td>\n",
              "      <td>69.0</td>\n",
              "      <td>6.21500</td>\n",
              "      <td>Gas Giant</td>\n",
              "      <td>1996</td>\n",
              "      <td>1.78000</td>\n",
              "      <td>Jupiter</td>\n",
              "      <td>1.200</td>\n",
              "      <td>Jupiter</td>\n",
              "      <td>1.660000</td>\n",
              "      <td>2.200000</td>\n",
              "      <td>0.68</td>\n",
              "      <td>Radial Velocity</td>\n",
              "    </tr>\n",
              "    <tr>\n",
              "      <th>5</th>\n",
              "      <td>17 Scorpii b</td>\n",
              "      <td>408.0</td>\n",
              "      <td>5.22606</td>\n",
              "      <td>Gas Giant</td>\n",
              "      <td>2020</td>\n",
              "      <td>4.32000</td>\n",
              "      <td>Jupiter</td>\n",
              "      <td>1.150</td>\n",
              "      <td>Jupiter</td>\n",
              "      <td>1.450000</td>\n",
              "      <td>1.600000</td>\n",
              "      <td>0.06</td>\n",
              "      <td>Radial Velocity</td>\n",
              "    </tr>\n",
              "    <tr>\n",
              "      <th>6</th>\n",
              "      <td>18 Delphini b</td>\n",
              "      <td>249.0</td>\n",
              "      <td>5.51048</td>\n",
              "      <td>Gas Giant</td>\n",
              "      <td>2008</td>\n",
              "      <td>10.30000</td>\n",
              "      <td>Jupiter</td>\n",
              "      <td>1.110</td>\n",
              "      <td>Jupiter</td>\n",
              "      <td>2.600000</td>\n",
              "      <td>2.700000</td>\n",
              "      <td>0.08</td>\n",
              "      <td>Radial Velocity</td>\n",
              "    </tr>\n",
              "    <tr>\n",
              "      <th>7</th>\n",
              "      <td>1RXS J160929.1-210524 b</td>\n",
              "      <td>454.0</td>\n",
              "      <td>12.61800</td>\n",
              "      <td>Gas Giant</td>\n",
              "      <td>2008</td>\n",
              "      <td>8.00000</td>\n",
              "      <td>Jupiter</td>\n",
              "      <td>1.664</td>\n",
              "      <td>Jupiter</td>\n",
              "      <td>330.000000</td>\n",
              "      <td>6505.900000</td>\n",
              "      <td>0.00</td>\n",
              "      <td>Direct Imaging</td>\n",
              "    </tr>\n",
              "    <tr>\n",
              "      <th>8</th>\n",
              "      <td>24 Bootis b</td>\n",
              "      <td>313.0</td>\n",
              "      <td>5.59000</td>\n",
              "      <td>Gas Giant</td>\n",
              "      <td>2018</td>\n",
              "      <td>0.91000</td>\n",
              "      <td>Jupiter</td>\n",
              "      <td>1.240</td>\n",
              "      <td>Jupiter</td>\n",
              "      <td>0.190000</td>\n",
              "      <td>0.083231</td>\n",
              "      <td>0.04</td>\n",
              "      <td>Radial Velocity</td>\n",
              "    </tr>\n",
              "    <tr>\n",
              "      <th>9</th>\n",
              "      <td>24 Sextantis b</td>\n",
              "      <td>235.0</td>\n",
              "      <td>6.45350</td>\n",
              "      <td>Gas Giant</td>\n",
              "      <td>2010</td>\n",
              "      <td>1.99000</td>\n",
              "      <td>Jupiter</td>\n",
              "      <td>1.190</td>\n",
              "      <td>Jupiter</td>\n",
              "      <td>1.333000</td>\n",
              "      <td>1.239699</td>\n",
              "      <td>0.09</td>\n",
              "      <td>Radial Velocity</td>\n",
              "    </tr>\n",
              "  </tbody>\n",
              "</table>\n",
              "</div>\n",
              "      <button class=\"colab-df-convert\" onclick=\"convertToInteractive('df-02ad26b7-701d-40d8-8bf3-a72d6f17f9e0')\"\n",
              "              title=\"Convert this dataframe to an interactive table.\"\n",
              "              style=\"display:none;\">\n",
              "        \n",
              "  <svg xmlns=\"http://www.w3.org/2000/svg\" height=\"24px\"viewBox=\"0 0 24 24\"\n",
              "       width=\"24px\">\n",
              "    <path d=\"M0 0h24v24H0V0z\" fill=\"none\"/>\n",
              "    <path d=\"M18.56 5.44l.94 2.06.94-2.06 2.06-.94-2.06-.94-.94-2.06-.94 2.06-2.06.94zm-11 1L8.5 8.5l.94-2.06 2.06-.94-2.06-.94L8.5 2.5l-.94 2.06-2.06.94zm10 10l.94 2.06.94-2.06 2.06-.94-2.06-.94-.94-2.06-.94 2.06-2.06.94z\"/><path d=\"M17.41 7.96l-1.37-1.37c-.4-.4-.92-.59-1.43-.59-.52 0-1.04.2-1.43.59L10.3 9.45l-7.72 7.72c-.78.78-.78 2.05 0 2.83L4 21.41c.39.39.9.59 1.41.59.51 0 1.02-.2 1.41-.59l7.78-7.78 2.81-2.81c.8-.78.8-2.07 0-2.86zM5.41 20L4 18.59l7.72-7.72 1.47 1.35L5.41 20z\"/>\n",
              "  </svg>\n",
              "      </button>\n",
              "      \n",
              "  <style>\n",
              "    .colab-df-container {\n",
              "      display:flex;\n",
              "      flex-wrap:wrap;\n",
              "      gap: 12px;\n",
              "    }\n",
              "\n",
              "    .colab-df-convert {\n",
              "      background-color: #E8F0FE;\n",
              "      border: none;\n",
              "      border-radius: 50%;\n",
              "      cursor: pointer;\n",
              "      display: none;\n",
              "      fill: #1967D2;\n",
              "      height: 32px;\n",
              "      padding: 0 0 0 0;\n",
              "      width: 32px;\n",
              "    }\n",
              "\n",
              "    .colab-df-convert:hover {\n",
              "      background-color: #E2EBFA;\n",
              "      box-shadow: 0px 1px 2px rgba(60, 64, 67, 0.3), 0px 1px 3px 1px rgba(60, 64, 67, 0.15);\n",
              "      fill: #174EA6;\n",
              "    }\n",
              "\n",
              "    [theme=dark] .colab-df-convert {\n",
              "      background-color: #3B4455;\n",
              "      fill: #D2E3FC;\n",
              "    }\n",
              "\n",
              "    [theme=dark] .colab-df-convert:hover {\n",
              "      background-color: #434B5C;\n",
              "      box-shadow: 0px 1px 3px 1px rgba(0, 0, 0, 0.15);\n",
              "      filter: drop-shadow(0px 1px 2px rgba(0, 0, 0, 0.3));\n",
              "      fill: #FFFFFF;\n",
              "    }\n",
              "  </style>\n",
              "\n",
              "      <script>\n",
              "        const buttonEl =\n",
              "          document.querySelector('#df-02ad26b7-701d-40d8-8bf3-a72d6f17f9e0 button.colab-df-convert');\n",
              "        buttonEl.style.display =\n",
              "          google.colab.kernel.accessAllowed ? 'block' : 'none';\n",
              "\n",
              "        async function convertToInteractive(key) {\n",
              "          const element = document.querySelector('#df-02ad26b7-701d-40d8-8bf3-a72d6f17f9e0');\n",
              "          const dataTable =\n",
              "            await google.colab.kernel.invokeFunction('convertToInteractive',\n",
              "                                                     [key], {});\n",
              "          if (!dataTable) return;\n",
              "\n",
              "          const docLinkHtml = 'Like what you see? Visit the ' +\n",
              "            '<a target=\"_blank\" href=https://colab.research.google.com/notebooks/data_table.ipynb>data table notebook</a>'\n",
              "            + ' to learn more about interactive tables.';\n",
              "          element.innerHTML = '';\n",
              "          dataTable['output_type'] = 'display_data';\n",
              "          await google.colab.output.renderOutput(dataTable, element);\n",
              "          const docLink = document.createElement('div');\n",
              "          docLink.innerHTML = docLinkHtml;\n",
              "          element.appendChild(docLink);\n",
              "        }\n",
              "      </script>\n",
              "    </div>\n",
              "  </div>\n",
              "  "
            ]
          },
          "metadata": {},
          "execution_count": 4
        }
      ]
    },
    {
      "cell_type": "code",
      "source": [
        "df.columns"
      ],
      "metadata": {
        "colab": {
          "base_uri": "https://localhost:8080/"
        },
        "id": "3TXw2w5A3l9_",
        "outputId": "2b4f8b4f-112f-44f3-ffef-a380e3afbac7"
      },
      "execution_count": null,
      "outputs": [
        {
          "output_type": "execute_result",
          "data": {
            "text/plain": [
              "Index(['name', 'distance', 'stellar_magnitude', 'planet_type',\n",
              "       'discovery_year', 'mass_multiplier', 'mass_wrt', 'radius_multiplier',\n",
              "       'radius_wrt', 'orbital_radius', 'orbital_period', 'eccentricity',\n",
              "       'detection_method'],\n",
              "      dtype='object')"
            ]
          },
          "metadata": {},
          "execution_count": 5
        }
      ]
    },
    {
      "cell_type": "markdown",
      "source": [
        "Las principales variables de este dataset basados en la consulta de columnas serán: 'discovery_year','planet_type','distance' pasa reconer la distancia de su estrella y poder indenticar los exoplanetas descubiertos hasta el momento con el análisis de sus características físicas, observar las propiedades y distribución de ellos en nuestra galaxia."
      ],
      "metadata": {
        "id": "_RCCyU4r4KfV"
      }
    },
    {
      "cell_type": "code",
      "source": [
        "df['distance'].describe().round(1)"
      ],
      "metadata": {
        "colab": {
          "base_uri": "https://localhost:8080/"
        },
        "id": "GmDhRqMg5ZYS",
        "outputId": "39298fb7-3d5d-4348-c409-54f31cbe782d"
      },
      "execution_count": null,
      "outputs": [
        {
          "output_type": "execute_result",
          "data": {
            "text/plain": [
              "count     5233.0\n",
              "mean      2167.2\n",
              "std       3245.5\n",
              "min          4.0\n",
              "25%        389.0\n",
              "50%       1371.0\n",
              "75%       2779.0\n",
              "max      27727.0\n",
              "Name: distance, dtype: float64"
            ]
          },
          "metadata": {},
          "execution_count": 7
        }
      ]
    },
    {
      "cell_type": "code",
      "source": [
        "df['distance'].var()"
      ],
      "metadata": {
        "colab": {
          "base_uri": "https://localhost:8080/"
        },
        "id": "1fBIFoVZD0IS",
        "outputId": "526b81ad-9671-4884-a394-579f9431ce38"
      },
      "execution_count": null,
      "outputs": [
        {
          "output_type": "execute_result",
          "data": {
            "text/plain": [
              "10533413.616591236"
            ]
          },
          "metadata": {},
          "execution_count": 8
        }
      ]
    },
    {
      "cell_type": "code",
      "source": [
        "df.info()"
      ],
      "metadata": {
        "colab": {
          "base_uri": "https://localhost:8080/"
        },
        "id": "kv5h7CC1D_AI",
        "outputId": "ff30d9f4-81a7-4cf2-ed50-f01c6bfc92d3"
      },
      "execution_count": null,
      "outputs": [
        {
          "output_type": "stream",
          "name": "stdout",
          "text": [
            "<class 'pandas.core.frame.DataFrame'>\n",
            "RangeIndex: 5250 entries, 0 to 5249\n",
            "Data columns (total 13 columns):\n",
            " #   Column             Non-Null Count  Dtype  \n",
            "---  ------             --------------  -----  \n",
            " 0   name               5250 non-null   object \n",
            " 1   distance           5233 non-null   float64\n",
            " 2   stellar_magnitude  5089 non-null   float64\n",
            " 3   planet_type        5250 non-null   object \n",
            " 4   discovery_year     5250 non-null   int64  \n",
            " 5   mass_multiplier    5227 non-null   float64\n",
            " 6   mass_wrt           5227 non-null   object \n",
            " 7   radius_multiplier  5233 non-null   float64\n",
            " 8   radius_wrt         5233 non-null   object \n",
            " 9   orbital_radius     4961 non-null   float64\n",
            " 10  orbital_period     5250 non-null   float64\n",
            " 11  eccentricity       5250 non-null   float64\n",
            " 12  detection_method   5250 non-null   object \n",
            "dtypes: float64(7), int64(1), object(5)\n",
            "memory usage: 533.3+ KB\n"
          ]
        }
      ]
    }
  ]
}